{
 "cells": [
  {
   "attachments": {},
   "cell_type": "markdown",
   "metadata": {},
   "source": [
    "<center>\n",
    "<a href=\"https://colab.research.google.com/github/wladrod/Aprendizaje-Automatico-2023/blob/master/notebooks/11-PyTorch.ipynb\" target=\"_parent\"><img src=\"https://colab.research.google.com/assets/colab-badge.svg\" alt=\"Open In Colab\"/></a>\n",
    "</center>"
   ]
  },
  {
   "attachments": {},
   "cell_type": "markdown",
   "metadata": {},
   "source": [
    "<center>\n",
    "    <h1>Aprendizaje Automátic</h1>\n",
    "    <h1>PyTorch</h1>\n",
    "    <br>\n",
    "    <h5>Prof. Wladimir Rodríguez</h5>\n",
    "    <h5>wladimir@ula.ve</h5>\n",
    "    <h5>Departamento de Computación</h5>\n",
    "</center>"
   ]
  },
  {
   "attachments": {},
   "cell_type": "markdown",
   "metadata": {},
   "source": [
    "<img src='../figuras/PyTorch.png' width=75%/>"
   ]
  },
  {
   "attachments": {},
   "cell_type": "markdown",
   "metadata": {},
   "source": [
    "# ¿Qué es [PyTorch](www.pytorch.org)?\n",
    "\n",
    "PyTorch es una librería de código abierto del lenguaje Python, desarrollada por Facebook en 2016 para ser usada en el ámbito del aprendizaje automático.\n",
    "\n",
    "A los investigadores de aprendizaje automático les encanta usar PyTorch. Y a partir de febrero de 2022, PyTorch es la libreria de aprendizaje profundo más utilizado en [Papers With Code](https://paperswithcode.com/trends), un sitio web que realizar un seguimiento de los trabajos de investigación de aprendizaje automático y los repositorios de código adjuntos.\n",
    "\n",
    "PyTorch también ayuda a encargarse de muchas cosas, como la aceleración de GPU (haciendo que su código se ejecute más rápido) detrás de escena.\n",
    "\n",
    "Así que puedes concentrarte en manipular datos y escribir algoritmos y PyTorch se asegurará de que funcione rápido.\n",
    "\n",
    "## Tensores\n",
    "Al igual que un vector puede considerarse como una matriz, o una lista, de escalares (números ordinarios como 1, 2 y PI), y las matrices pueden considerarse matrices de vectores, un tensor puede considerarse como un matriz de matrices. Entonces un tensor es realmente solo una matriz n-dimensional. Resulta, como veremos en los ejemplos de codificación, que esta arquitectura tiene mucho sentido cuando se trabaja con el aprendizaje automático.\n",
    "\n",
    "En TensorFlow, los tensores se describen mediante una unidad de dimensionalidad conocida como orden. El orden de Tensor no es lo mismo que el orden de la matriz. El orden del tensor es el número de dimensiones del tensor.\n",
    "\n",
    "Un tensor de orden dos es lo que típicamente pensamos como una matriz, un tensor de orden uno es un vector. Para un tensor de orden dos, puede acceder a cualquier elemento con la sintaxis `t[i, j]`. Para un tensor de orden tres, los elementos de direccionan con `t[i, j, k]`.\n",
    "\n",
    "<img src='../figuras/tensor_rank.png' width=75%/>\n",
    "\n",
    "Los tensores son similares a los `ndarrays` de NumPy, con la adición de que los tensores también se pueden usar en una GPU para acelerar la computaciȯn.\n"
   ]
  },
  {
   "cell_type": "code",
   "execution_count": 3,
   "metadata": {},
   "outputs": [
    {
     "data": {
      "text/plain": [
       "'1.12.1'"
      ]
     },
     "execution_count": 3,
     "metadata": {},
     "output_type": "execute_result"
    }
   ],
   "source": [
    "import torch\n",
    "import torch.optim as optim\n",
    "import torch.nn as nn\n",
    "from torchvision import datasets, transforms\n",
    "import matplotlib.pyplot as plt\n",
    "import numpy as np\n",
    "from time import time\n",
    "%matplotlib inline\n",
    "torch.__version__"
   ]
  },
  {
   "attachments": {},
   "cell_type": "markdown",
   "metadata": {},
   "source": [
    "Construya una matriz de 5x3, sin inicializar:"
   ]
  },
  {
   "cell_type": "code",
   "execution_count": 17,
   "metadata": {},
   "outputs": [
    {
     "data": {
      "text/plain": [
       "tensor([[1.1210e-44, 0.0000e+00, 2.1019e-44],\n",
       "        [0.0000e+00, 3.8384e-41, 2.8026e-45],\n",
       "        [0.0000e+00, 0.0000e+00, 2.1019e-44],\n",
       "        [0.0000e+00, 4.0897e-41, 0.0000e+00],\n",
       "        [3.5584e+19, 1.4013e-45, 2.1019e-44]])"
      ]
     },
     "execution_count": 17,
     "metadata": {},
     "output_type": "execute_result"
    }
   ],
   "source": [
    "x = torch.empty(5, 3)\n",
    "x"
   ]
  },
  {
   "attachments": {},
   "cell_type": "markdown",
   "metadata": {},
   "source": [
    "Construya una matriz inicializada al azar:"
   ]
  },
  {
   "cell_type": "code",
   "execution_count": 18,
   "metadata": {},
   "outputs": [
    {
     "data": {
      "text/plain": [
       "tensor([[0.6144, 0.6569, 0.6571],\n",
       "        [0.8377, 0.8562, 0.6570],\n",
       "        [0.8439, 0.5591, 0.1283],\n",
       "        [0.1261, 0.0950, 0.0736],\n",
       "        [0.9960, 0.5408, 0.1851]])"
      ]
     },
     "execution_count": 18,
     "metadata": {},
     "output_type": "execute_result"
    }
   ],
   "source": [
    "x = torch.rand(5, 3)\n",
    "x"
   ]
  },
  {
   "attachments": {},
   "cell_type": "markdown",
   "metadata": {},
   "source": [
    "Construya una matriz llena de ceros y de `dtype long`:"
   ]
  },
  {
   "cell_type": "code",
   "execution_count": 19,
   "metadata": {},
   "outputs": [
    {
     "data": {
      "text/plain": [
       "tensor([[0, 0, 0],\n",
       "        [0, 0, 0],\n",
       "        [0, 0, 0],\n",
       "        [0, 0, 0],\n",
       "        [0, 0, 0]])"
      ]
     },
     "execution_count": 19,
     "metadata": {},
     "output_type": "execute_result"
    }
   ],
   "source": [
    "x = torch.zeros(5, 3, dtype=torch.long)\n",
    "x"
   ]
  },
  {
   "attachments": {},
   "cell_type": "markdown",
   "metadata": {},
   "source": [
    "Construya un tensor directamente de los datos:"
   ]
  },
  {
   "cell_type": "code",
   "execution_count": 20,
   "metadata": {},
   "outputs": [
    {
     "data": {
      "text/plain": [
       "tensor([5.5000, 3.0000])"
      ]
     },
     "execution_count": 20,
     "metadata": {},
     "output_type": "execute_result"
    }
   ],
   "source": [
    "x = torch.tensor([5.5, 3])\n",
    "x"
   ]
  },
  {
   "attachments": {},
   "cell_type": "markdown",
   "metadata": {},
   "source": [
    "o crear un tensor basado en un tensor existente. Estos métodos reutilizarán las propiedades del tensor de entrada, a menos que el usuario proporcione nuevos valores"
   ]
  },
  {
   "cell_type": "code",
   "execution_count": 21,
   "metadata": {},
   "outputs": [
    {
     "name": "stdout",
     "output_type": "stream",
     "text": [
      "tensor([[1., 1., 1.],\n",
      "        [1., 1., 1.],\n",
      "        [1., 1., 1.],\n",
      "        [1., 1., 1.],\n",
      "        [1., 1., 1.]], dtype=torch.float64)\n"
     ]
    },
    {
     "data": {
      "text/plain": [
       "tensor([[0.9706, 0.8255, 0.2703],\n",
       "        [0.9891, 0.8650, 0.9366],\n",
       "        [0.2873, 0.4530, 0.5338],\n",
       "        [0.1202, 0.5840, 0.0107],\n",
       "        [0.6551, 0.7522, 0.0894]])"
      ]
     },
     "execution_count": 21,
     "metadata": {},
     "output_type": "execute_result"
    }
   ],
   "source": [
    "x = x.new_ones(5, 3, dtype=torch.double)    # los métodos new_* toman tamaños\n",
    "print(x)\n",
    "x = torch.rand_like(x, dtype=torch.float)   # cambiar dtype!\n",
    "x                                           # el resultado tiene el mismo tamaño"
   ]
  },
  {
   "attachments": {},
   "cell_type": "markdown",
   "metadata": {},
   "source": [
    "Obtener su tamaño:"
   ]
  },
  {
   "cell_type": "code",
   "execution_count": 22,
   "metadata": {},
   "outputs": [
    {
     "data": {
      "text/plain": [
       "torch.Size([5, 3])"
      ]
     },
     "execution_count": 22,
     "metadata": {},
     "output_type": "execute_result"
    }
   ],
   "source": [
    "x.size()"
   ]
  },
  {
   "attachments": {},
   "cell_type": "markdown",
   "metadata": {},
   "source": [
    "Nota\n",
    "\n",
    "> `torch.Size` es de hecho una tupla, por lo que admite todas las operaciones de tupla."
   ]
  },
  {
   "attachments": {},
   "cell_type": "markdown",
   "metadata": {},
   "source": [
    "### Operaciones\n",
    "\n",
    "Existen múltiples sintaxis para las operaciones. En el siguiente ejemplo, veremos la operación de adición.\n",
    "\n",
    "Adición: sintaxis 1"
   ]
  },
  {
   "cell_type": "code",
   "execution_count": 23,
   "metadata": {},
   "outputs": [
    {
     "data": {
      "text/plain": [
       "tensor([[1.4083, 1.8022, 0.9206],\n",
       "        [1.1800, 1.1101, 1.6890],\n",
       "        [1.1264, 1.4018, 0.6821],\n",
       "        [0.6555, 1.3994, 0.0509],\n",
       "        [0.7434, 1.0376, 0.3307]])"
      ]
     },
     "execution_count": 23,
     "metadata": {},
     "output_type": "execute_result"
    }
   ],
   "source": [
    "y = torch.rand(5, 3)\n",
    "x + y"
   ]
  },
  {
   "attachments": {},
   "cell_type": "markdown",
   "metadata": {},
   "source": [
    "Adición: sintaxis 2"
   ]
  },
  {
   "cell_type": "code",
   "execution_count": 24,
   "metadata": {},
   "outputs": [
    {
     "data": {
      "text/plain": [
       "tensor([[1.4083, 1.8022, 0.9206],\n",
       "        [1.1800, 1.1101, 1.6890],\n",
       "        [1.1264, 1.4018, 0.6821],\n",
       "        [0.6555, 1.3994, 0.0509],\n",
       "        [0.7434, 1.0376, 0.3307]])"
      ]
     },
     "execution_count": 24,
     "metadata": {},
     "output_type": "execute_result"
    }
   ],
   "source": [
    "torch.add(x, y)"
   ]
  },
  {
   "attachments": {},
   "cell_type": "markdown",
   "metadata": {},
   "source": [
    "Adición: proporcionar un tensor de salida como argumento"
   ]
  },
  {
   "cell_type": "code",
   "execution_count": 25,
   "metadata": {},
   "outputs": [
    {
     "data": {
      "text/plain": [
       "tensor([[1.4083, 1.8022, 0.9206],\n",
       "        [1.1800, 1.1101, 1.6890],\n",
       "        [1.1264, 1.4018, 0.6821],\n",
       "        [0.6555, 1.3994, 0.0509],\n",
       "        [0.7434, 1.0376, 0.3307]])"
      ]
     },
     "execution_count": 25,
     "metadata": {},
     "output_type": "execute_result"
    }
   ],
   "source": [
    "resultado = torch.empty(5, 3)\n",
    "torch.add(x, y, out=resultado)\n",
    "resultado"
   ]
  },
  {
   "attachments": {},
   "cell_type": "markdown",
   "metadata": {},
   "source": [
    "Adición: en sitio"
   ]
  },
  {
   "cell_type": "code",
   "execution_count": 26,
   "metadata": {},
   "outputs": [
    {
     "data": {
      "text/plain": [
       "tensor([[1.4083, 1.8022, 0.9206],\n",
       "        [1.1800, 1.1101, 1.6890],\n",
       "        [1.1264, 1.4018, 0.6821],\n",
       "        [0.6555, 1.3994, 0.0509],\n",
       "        [0.7434, 1.0376, 0.3307]])"
      ]
     },
     "execution_count": 26,
     "metadata": {},
     "output_type": "execute_result"
    }
   ],
   "source": [
    "y.add_(x)\n",
    "y"
   ]
  },
  {
   "attachments": {},
   "cell_type": "markdown",
   "metadata": {},
   "source": [
    "Nota\n",
    "\n",
    "> Cualquier operación que cambie un tensor en el lugar se le coloca el postfijo \\_. Por ejemplo: *x.copy_(y)*, *x.t_()*, cambiará *x*.\n",
    "\n",
    "¡Puede usar la indexación NumPy estándar!"
   ]
  },
  {
   "cell_type": "code",
   "execution_count": 27,
   "metadata": {},
   "outputs": [
    {
     "data": {
      "text/plain": [
       "tensor([0.8255, 0.8650, 0.4530, 0.5840, 0.7522])"
      ]
     },
     "execution_count": 27,
     "metadata": {},
     "output_type": "execute_result"
    }
   ],
   "source": [
    "x[:, 1]"
   ]
  },
  {
   "attachments": {},
   "cell_type": "markdown",
   "metadata": {},
   "source": [
    "Cambio de tamaño: si desea cambiar el tamaño / remodelar el tensor, puede usar `torch.view`:"
   ]
  },
  {
   "cell_type": "code",
   "execution_count": 28,
   "metadata": {},
   "outputs": [
    {
     "name": "stdout",
     "output_type": "stream",
     "text": [
      "torch.Size([4, 4]) torch.Size([16]) torch.Size([2, 8])\n"
     ]
    }
   ],
   "source": [
    "x = torch.rand(4, 4)\n",
    "y = x.view(16)\n",
    "z = x.view(-1, 8)\n",
    "print(x.size(), y.size(), z.size())"
   ]
  },
  {
   "attachments": {},
   "cell_type": "markdown",
   "metadata": {},
   "source": [
    "Si tiene un tensor de un elemento, use `.item()` para obtener el valor como un número de Python"
   ]
  },
  {
   "cell_type": "code",
   "execution_count": 29,
   "metadata": {},
   "outputs": [
    {
     "name": "stdout",
     "output_type": "stream",
     "text": [
      "tensor([0.2538])\n"
     ]
    },
    {
     "data": {
      "text/plain": [
       "0.253837525844574"
      ]
     },
     "execution_count": 29,
     "metadata": {},
     "output_type": "execute_result"
    }
   ],
   "source": [
    "x = torch.randn(1)\n",
    "print(x)\n",
    "x.item()"
   ]
  },
  {
   "attachments": {},
   "cell_type": "markdown",
   "metadata": {},
   "source": [
    "Leer mas tarde:\n",
    "\n",
    "> [Aquí](https://pytorch.org/docs/stable/torch.html) se describen más de 100 operaciones de tensor, que incluyen transposición, indexación, corte, operaciones matemáticas, álgebra lineal, números aleatorios, etc."
   ]
  },
  {
   "attachments": {},
   "cell_type": "markdown",
   "metadata": {},
   "source": [
    "### Puente NumPy\n",
    "\n",
    "Convertir un Tensor Torch en una matriz NumPy y viceversa es muy fácil.\n",
    "\n",
    "El Tensor Torch y la matriz NumPy compartirán sus ubicaciones de memoria subyacentes (si el Tensor Torch está en la CPU), y cambiar una cambiará la otra.\n",
    "### Convertir un Tensor Torch en una matriz NumPy"
   ]
  },
  {
   "cell_type": "code",
   "execution_count": 30,
   "metadata": {},
   "outputs": [
    {
     "data": {
      "text/plain": [
       "tensor([1., 1., 1., 1., 1.])"
      ]
     },
     "execution_count": 30,
     "metadata": {},
     "output_type": "execute_result"
    }
   ],
   "source": [
    "a = torch.ones(5)\n",
    "a"
   ]
  },
  {
   "cell_type": "code",
   "execution_count": 31,
   "metadata": {},
   "outputs": [
    {
     "data": {
      "text/plain": [
       "array([1., 1., 1., 1., 1.], dtype=float32)"
      ]
     },
     "execution_count": 31,
     "metadata": {},
     "output_type": "execute_result"
    }
   ],
   "source": [
    "b = a.numpy()\n",
    "b"
   ]
  },
  {
   "attachments": {},
   "cell_type": "markdown",
   "metadata": {},
   "source": [
    "Vea cómo la matriz numpy cambió de valor."
   ]
  },
  {
   "cell_type": "code",
   "execution_count": 32,
   "metadata": {},
   "outputs": [
    {
     "name": "stdout",
     "output_type": "stream",
     "text": [
      "tensor([2., 2., 2., 2., 2.])\n",
      "[2. 2. 2. 2. 2.]\n"
     ]
    }
   ],
   "source": [
    "a.add_(1)\n",
    "print(a)\n",
    "print(b)"
   ]
  },
  {
   "cell_type": "code",
   "execution_count": 33,
   "metadata": {},
   "outputs": [
    {
     "name": "stdout",
     "output_type": "stream",
     "text": [
      "[3. 3. 3. 3. 3.]\n",
      "tensor([2., 2., 2., 2., 2.])\n"
     ]
    }
   ],
   "source": [
    "b = b + 1\n",
    "print(b)\n",
    "print(a)"
   ]
  },
  {
   "attachments": {},
   "cell_type": "markdown",
   "metadata": {},
   "source": [
    "### Conversión de matriz NumPy a Tensor Torch\n",
    "\n",
    "Vea cómo cambiar la matriz NumPy cambió el Tensor Torch automáticamente"
   ]
  },
  {
   "cell_type": "code",
   "execution_count": 34,
   "metadata": {},
   "outputs": [
    {
     "name": "stdout",
     "output_type": "stream",
     "text": [
      "[2. 2. 2. 2. 2.]\n",
      "tensor([2., 2., 2., 2., 2.], dtype=torch.float64)\n"
     ]
    }
   ],
   "source": [
    "a = np.ones(5)\n",
    "b = torch.from_numpy(a)\n",
    "np.add(a, 1, out=a)\n",
    "print(a)\n",
    "print(b)"
   ]
  },
  {
   "attachments": {},
   "cell_type": "markdown",
   "metadata": {},
   "source": [
    "Todos los tensores en la CPU excepto un `CharTensor` admiten la conversión a NumPy y viceversa."
   ]
  },
  {
   "attachments": {},
   "cell_type": "markdown",
   "metadata": {},
   "source": [
    "### Tensores CUDA\n",
    "\n",
    "Los tensores se pueden mover a cualquier dispositivo utilizando el método `.to`."
   ]
  },
  {
   "cell_type": "code",
   "execution_count": 38,
   "metadata": {},
   "outputs": [
    {
     "name": "stdout",
     "output_type": "stream",
     "text": [
      "tensor([1.2538], device='mps:0')\n",
      "tensor([1.2538])\n"
     ]
    }
   ],
   "source": [
    "# ejecutemos esta celda solo si CUDA está disponible\n",
    "# Usaremos objetos ``torch.device`` para mover los tensores dentro y fuera de la GPU\n",
    "if torch.backends.mps.is_available():\n",
    "    dispositivo = torch.device(\"mps\")          # un objeto dispositivo CUDA\n",
    "    y = torch.ones_like(x, device=dispositivo)  # crear directamente un tensor en la GPU\n",
    "    x = x.to(dispositivo)                       # o usar la cadena ``.to(\"cuda\")``\n",
    "    z = x + y\n",
    "    print(z)\n",
    "    print(z.to(\"cpu\", torch.float32)) "
   ]
  },
  {
   "attachments": {},
   "cell_type": "markdown",
   "metadata": {},
   "source": [
    "## Un problema de regresión simple\n",
    "\n",
    "Vamos a comenzar a utilizar `PyTorch` con un problema sencillo de regresión lineal con una sola característica $x$. \n",
    "\n",
    "$$y = a +bx + \\epsilon$$"
   ]
  },
  {
   "attachments": {},
   "cell_type": "markdown",
   "metadata": {},
   "source": [
    "## Generacion de datos\n",
    "\n",
    "Comencemos generando algunos datos sintéticos: comenzamos con un vector de 100 puntos para nuestra característica $x$ y creamos nuestras etiquetas usando $a = 1$, $b = 2$ y algo de ruido gaussiano.\n",
    "\n",
    "A continuación, dividamos nuestros datos sintéticos en conjuntos de entrenamiento y validación, barajando la matriz de índices y utilizando los primeros 80 puntos barajados para el entrenamiento."
   ]
  },
  {
   "cell_type": "code",
   "execution_count": 39,
   "metadata": {},
   "outputs": [],
   "source": [
    "# Generación de Datos\n",
    "np.random.seed(42)\n",
    "x = np.random.rand(100, 1)\n",
    "y = 1 + 2 * x + .1 * np.random.randn(100, 1)\n",
    "\n",
    "# Barajar los indices\n",
    "indices = np.arange(100)\n",
    "np.random.shuffle(indices)\n",
    "\n",
    "# Usar los primeros 80 indices aleatorios para entrenamiento\n",
    "indices_entrenamiento = indices[:80]\n",
    "# Usar los indices restantes para validación\n",
    "indices_validacion = indices[80:]\n",
    "\n",
    "# Generar conjuntos de entrenamiento y validación\n",
    "x_entrenamiento, y_entrenamiento = x[indices_entrenamiento], y[indices_entrenamiento]\n",
    "x_validacion, y_validacion = x[indices_validacion], y[indices_validacion]"
   ]
  },
  {
   "attachments": {},
   "cell_type": "markdown",
   "metadata": {},
   "source": [
    "## Visualización de los conjuntos de datos"
   ]
  },
  {
   "cell_type": "code",
   "execution_count": 40,
   "metadata": {},
   "outputs": [
    {
     "data": {
      "image/png": "[encoded data removed]",
      "text/plain": [
       "<Figure size 432x288 with 2 Axes>"
      ]
     },
     "metadata": {
      "needs_background": "light"
     },
     "output_type": "display_data"
    }
   ],
   "source": [
    "figura, axs = plt.subplots(1, 2)\n",
    "axs[0].scatter(x_entrenamiento, y_entrenamiento)\n",
    "axs[0].set(xlabel='x', ylabel='y')\n",
    "axs[0].set_title('Datos Entrenamiento')\n",
    "axs[1].scatter(x_validacion, y_validacion, c='red')\n",
    "axs[1].set(xlabel='x', ylabel='y')\n",
    "axs[1].set_title('Datos Validación')\n",
    "for ax in axs.flat:\n",
    "    ax.label_outer()"
   ]
  },
  {
   "attachments": {},
   "cell_type": "markdown",
   "metadata": {},
   "source": [
    "### Cargando datos, dispositivos y CUDA\n",
    "\n",
    "Para convertir las matrices Numpy a tensores Pytorch usaremos `from_numpy`. Sin embargo, este método devuelve un tensor de CPU.\n",
    "\n",
    "Si queremos utilizar la GPU podemos usar el método `to()`. Envía un tensor a cualquier dispositivo que especifique, incluida la GPU (denominada `cuda` o `cuda:0`).\n",
    "\n",
    "Para hacer que el código use la CPU en caso de que no tengamos disponible una GPU se puede usar `cuda.is_available()` para averiguar si tiene una GPU a su disposición y configura tu dispositivo en consecuencia.\n",
    "\n",
    "También puede convertirlo fácilmente a una precisión menor (flotante de 32 bits) utilizando `float()`."
   ]
  },
  {
   "cell_type": "code",
   "execution_count": 41,
   "metadata": {},
   "outputs": [
    {
     "name": "stdout",
     "output_type": "stream",
     "text": [
      "<class 'numpy.ndarray'> <class 'torch.Tensor'> torch.mps.FloatTensor\n"
     ]
    }
   ],
   "source": [
    "dispositivo = 'mps' if torch.backends.mps.is_available() else 'cpu'\n",
    "\n",
    "# Nuestros datos estaban en matrices Numpy, pero tenemos que transformarlos en los tensores de PyTorch\n",
    "# y luego los enviamos al dispositivo elegido\n",
    "x_entrenamiento_tensor = torch.from_numpy(x_entrenamiento).float().to(dispositivo)\n",
    "y_entrenamiento_tensor = torch.from_numpy(y_entrenamiento).float().to(dispositivo)\n",
    "\n",
    "x_validacion_tensor = torch.from_numpy(x_validacion).float().to(dispositivo)\n",
    "y_validacion_tensor = torch.from_numpy(y_validacion).float().to(dispositivo)\n",
    "# Aquí podemos ver la diferencia: observe que .type() es más útil\n",
    "# ya que también nos dice DÓNDE está el tensor (device)\n",
    "print(type(x_entrenamiento), type(x_entrenamiento_tensor), x_entrenamiento_tensor.type())"
   ]
  },
  {
   "attachments": {},
   "cell_type": "markdown",
   "metadata": {},
   "source": [
    "Si comparamos los tipos de ambas variables, obtendrá lo que esperaría: `numpy.ndarray` para la primera y `torch.Tensor` para la segunda.\n",
    "\n",
    "El tipo de dato de un tensor de GPU sería `torch.cuda.FloatTensor`.\n",
    "\n",
    "También podemos dar la vuelta, volviendo los tensores a matrices Numpy, usando `numpy()`. Debería ser fácil como `x_train_tensor.numpy()` pero ...\n",
    "\n",
    "> TypeError: no se puede convertir el tensor CUDA en numpy. Use `Tensor.cpu()` para copiar primero el tensor a la memoria del host.\n",
    "\n",
    "Desafortunadamente, Numpy no puede manejar los tensores de GPU ... primero debe hacer que sean tensores de CPU usando `cpu()`."
   ]
  },
  {
   "attachments": {},
   "cell_type": "markdown",
   "metadata": {},
   "source": [
    "### Creando Parámetros\n",
    "\n",
    "¿Qué distingue un tensor utilizado para datos, como los que acabamos de crear, de un tensor utilizado como parámetro / peso (entrenable)?\n",
    "\n",
    "Los últimos tensores requieren el cálculo de sus gradientes, por lo que podemos actualizar sus valores (los valores de los parámetros, es decir). Para eso es necesario el argumento `require_grad = True`. Le dice a PyTorch que queremos que calcule gradientes para nosotros."
   ]
  },
  {
   "cell_type": "code",
   "execution_count": 42,
   "metadata": {},
   "outputs": [
    {
     "name": "stdout",
     "output_type": "stream",
     "text": [
      "tensor([0.3367], device='mps:0', requires_grad=True) tensor([0.1288], device='mps:0', requires_grad=True)\n"
     ]
    }
   ],
   "source": [
    "torch.manual_seed(42)\n",
    "#Podemos crear tensores regulares y enviarlos al dispositivo (como hicimos con nuestros datos)\n",
    "a = torch.randn(1, dtype=torch.float).to(dispositivo)\n",
    "b = torch.randn(1, dtype=torch.float).to(dispositivo)\n",
    "# y ENTONCES los fijamos como que requieren gradientes ...\n",
    "a.requires_grad_()\n",
    "b.requires_grad_()\n",
    "print(a, b)"
   ]
  },
  {
   "attachments": {},
   "cell_type": "markdown",
   "metadata": {},
   "source": [
    "Primero enviamos nuestros tensores al dispositivo y luego usamos el método `require_grad_()` para establecer su require_grad en True en su lugar.\n",
    "  \n",
    "> tensor(\\[0.3367\\], device='cuda:0', requires_grad=True)  \n",
    "> tensor(\\[0.1288\\], device='cuda:0', requires_grad=True)\n",
    "\n",
    "*En PyTorch, cada método que termina con un guión bajo (_) realiza cambios in situ, lo que significa que modificarán la variable subyacente.*\n",
    "\n",
    "Aunque el último enfoque funcionó bien, es mucho mejor asignar tensores a un dispositivo en el momento de su creación."
   ]
  },
  {
   "cell_type": "code",
   "execution_count": 43,
   "metadata": {},
   "outputs": [
    {
     "name": "stdout",
     "output_type": "stream",
     "text": [
      "tensor([1.5066], device='mps:0', requires_grad=True) tensor([-0.5592], device='mps:0', requires_grad=True)\n"
     ]
    }
   ],
   "source": [
    "# Podemos especificar el dispositivo en el momento de la creación. ¡RECOMENDADO!\n",
    "torch.manual_seed(42)\n",
    "a = torch.randn(1, requires_grad=True, dtype=torch.float, device=dispositivo)\n",
    "b = torch.randn(1, requires_grad=True, dtype=torch.float, device=dispositivo)\n",
    "print(a, b)"
   ]
  },
  {
   "attachments": {},
   "cell_type": "markdown",
   "metadata": {},
   "source": [
    "### Autograd\n",
    "\n",
    "Autograd es el paquete de diferenciación automática de PyTorch. Gracias a ello, no necesitamos preocuparnos por las derivadas parciales, regla de la cadena ni nada por el estilo.\n",
    "\n",
    "Entonces, ¿cómo le decimos a PyTorch que haga lo suyo y calcule todos los gradientes? Para eso sirve el método `backward()`.\n",
    "\n",
    "¿Recuerdas el punto de partida para calcular los gradientes? Fue la función de pérdida, ya que calculamos sus derivadas parciales con respecto a nuestros parámetros. Por lo tanto, debemos invocar el método `backward()` desde la variable Python correspondiente, como `perdida.backward()`.\n",
    "\n",
    "¿Qué pasa con los valores reales de los gradientes? Podemos inspeccionarlos mirando el atributo `grad` de un tensor.\n",
    "\n",
    "Si revisa la documentación del método, indica claramente que los gradientes se acumulan. Entonces, cada vez que usamos los gradientes para actualizar los parámetros, necesitamos poner a cero los gradientes después. Y para eso sirve `zero_grad()`.\n",
    "\n",
    "Entonces, abandonemos el cálculo manual de gradientes y usemos los métodos `backward()` y `zero_grad()` en su lugar.\n"
   ]
  },
  {
   "attachments": {},
   "cell_type": "markdown",
   "metadata": {},
   "source": [
    "### Optimizador\n",
    "\n",
    "Utilizamos uno de los [optimizadores de PyTorch](https://pytorch.org/docs/stable/optim.html), como SGD o Adam.\n",
    "\n",
    "Un optimizador toma los parámetros que queremos actualizar, la tasa de aprendizaje que queremos usar (¡y posiblemente muchos otros hiperparámetros también!) Y realiza las actualizaciones a través de su método `step()`.\n",
    "\n",
    "Además, ya no necesitamos poner a cero los gradientes uno por uno. ¡Solo invocamos el método `zero_grad()` del optimizador y eso es todo!\n",
    "\n",
    "*No se deje engañar por el nombre del optimizador: si utilizamos todos los datos de entrenamiento a la vez para la actualización, como lo estamos haciendo en el código, el optimizador está realizando un descenso de gradiente por lotes, a pesar de su nombre.*"
   ]
  },
  {
   "attachments": {},
   "cell_type": "markdown",
   "metadata": {},
   "source": [
    "### Pérdida\n",
    "\n",
    "Ahora abordamos el cálculo de pérdidas. Como se esperaba, PyTorch nos cubrió una vez más. Hay muchas [funciones de pérdida](https://pytorch.org/docs/stable/nn.html#loss-functions) para elegir, dependiendo de la tarea en cuestión. Como el nuestro es una regresión, estamos utilizando la pérdida del error cuadrático medio (MSE).\n",
    "\n",
    "*Tenga en cuenta que* `nn.MSELoss` *en realidad crea una función de pérdida para nosotros, NO es la función de pérdida en sí. Además, puede especificar un método de reducción para aplicar, es decir, cómo desea agregar los resultados para puntos individuales: puede promediarlos `(reduction='mean')` o simplemente sumarlos `(reduction='sum')`*.\n",
    "\n",
    "Luego usamos la función de pérdida creada más adelante, para calcular la pérdida dadas nuestras predicciones y nuestras etiquetas."
   ]
  },
  {
   "attachments": {},
   "cell_type": "markdown",
   "metadata": {},
   "source": [
    "### Modelo\n",
    "\n",
    "En PyTorch, un modelo está representado por una clase normal de Python que hereda de la clase `Module`.\n",
    "\n",
    "Los métodos más fundamentales que necesita implementar son:\n",
    "\n",
    "- `__init __(self)`: define las partes que componen el modelo, en nuestro caso, dos parámetros, $a$ y $b$.\n",
    "\n",
    ">Sin embargo, no está limitado a definir parámetros ... los modelos también pueden contener otros modelos (o capas) como sus atributos, por lo que puede anidarlos fácilmente. Veremos un ejemplo de esto en breve también.\n",
    "\n",
    "- `forward(self, x)`: realiza el cálculo real, es decir, genera una predicción, dada la entrada x.\n",
    "\n",
    ">Sin embargo, NO debe llamar al método `forward(x)`. Debe llamar a todo el modelo en sí, como en el `modelo(x)` para realizar un pase hacia adelante y predecir la salida.\n",
    "\n",
    "Construyamos un modelo adecuado (pero simple) para nuestra tarea de regresión. Debe tener un aspecto como este:"
   ]
  },
  {
   "cell_type": "code",
   "execution_count": 44,
   "metadata": {},
   "outputs": [],
   "source": [
    "class RegresionLinealManual(nn.Module):\n",
    "    def __init__(self):\n",
    "        super().__init__()\n",
    "        # Para hacer que \"a\" y \"b\" sean parámetros reales del modelo, necesitamos envolverlos con nn.Parameter\n",
    "        self.a = nn.Parameter(torch.randn(1, requires_grad=True, dtype=torch.float))\n",
    "        self.b = nn.Parameter(torch.randn(1, requires_grad=True, dtype=torch.float))\n",
    "        \n",
    "    def forward(self, x):\n",
    "        # Calcula las salidas / predicciones\n",
    "        return self.a + self.b * x"
   ]
  },
  {
   "attachments": {},
   "cell_type": "markdown",
   "metadata": {},
   "source": [
    "En el método `__init__`, definimos nuestros dos parámetros, $a$ y $b$, usando la clase `Parameter()`, para decirle a PyTorch que estos tensores deben considerarse parámetros del modelo del que son un atributo.\n",
    "\n",
    "¿Por qué debería importarnos eso? Al hacerlo, podemos usar el método `parameter()` de nuestro modelo para recuperar un iterador sobre todos los parámetros del modelo, incluso aquellos parámetros de modelos anidados, que podemos usar para alimentar nuestro optimizador (¡en lugar de crear una lista de parámetros nosotros mismos!).\n",
    "\n",
    "Además, podemos obtener los valores actuales para todos los parámetros utilizando el método `state_dict()` de nuestro modelo.\n",
    "\n",
    ">IMPORTANTE: necesitamos enviar nuestro modelo al mismo dispositivo donde están los datos. Si nuestros datos están hechos de tensores de GPU, nuestro modelo también debe \"vivir\" dentro de la GPU.\n",
    "\n",
    "Podemos usar todos estos útiles métodos  para cambiar nuestro código, que debería verse así:"
   ]
  },
  {
   "cell_type": "code",
   "execution_count": 46,
   "metadata": {},
   "outputs": [
    {
     "name": "stdout",
     "output_type": "stream",
     "text": [
      "OrderedDict([('a', tensor([0.3367], device='mps:0')), ('b', tensor([0.1288], device='mps:0'))])\n",
      "Epoca: 0 | MSE Perdida Entrenamiento: 2.7475 | MSE Perdida Prueba: 1.3556 \n",
      "Epoca: 10 | MSE Perdida Entrenamiento: 0.1146 | MSE Perdida Prueba: 0.0593 \n",
      "Epoca: 20 | MSE Perdida Entrenamiento: 0.0803 | MSE Perdida Prueba: 0.0482 \n",
      "Epoca: 30 | MSE Perdida Entrenamiento: 0.0613 | MSE Perdida Prueba: 0.0372 \n",
      "Epoca: 40 | MSE Perdida Entrenamiento: 0.0473 | MSE Perdida Prueba: 0.0289 \n",
      "Epoca: 50 | MSE Perdida Entrenamiento: 0.0370 | MSE Perdida Prueba: 0.0229 \n",
      "Epoca: 60 | MSE Perdida Entrenamiento: 0.0294 | MSE Perdida Prueba: 0.0185 \n",
      "Epoca: 70 | MSE Perdida Entrenamiento: 0.0238 | MSE Perdida Prueba: 0.0154 \n",
      "Epoca: 80 | MSE Perdida Entrenamiento: 0.0197 | MSE Perdida Prueba: 0.0132 \n",
      "Epoca: 90 | MSE Perdida Entrenamiento: 0.0166 | MSE Perdida Prueba: 0.0116 \n",
      "Epoca: 100 | MSE Perdida Entrenamiento: 0.0144 | MSE Perdida Prueba: 0.0105 \n",
      "Epoca: 110 | MSE Perdida Entrenamiento: 0.0127 | MSE Perdida Prueba: 0.0097 \n",
      "Epoca: 120 | MSE Perdida Entrenamiento: 0.0115 | MSE Perdida Prueba: 0.0092 \n",
      "Epoca: 130 | MSE Perdida Entrenamiento: 0.0106 | MSE Perdida Prueba: 0.0088 \n",
      "Epoca: 140 | MSE Perdida Entrenamiento: 0.0099 | MSE Perdida Prueba: 0.0086 \n",
      "Epoca: 150 | MSE Perdida Entrenamiento: 0.0094 | MSE Perdida Prueba: 0.0085 \n",
      "Epoca: 160 | MSE Perdida Entrenamiento: 0.0091 | MSE Perdida Prueba: 0.0084 \n",
      "Epoca: 170 | MSE Perdida Entrenamiento: 0.0088 | MSE Perdida Prueba: 0.0083 \n",
      "Epoca: 180 | MSE Perdida Entrenamiento: 0.0086 | MSE Perdida Prueba: 0.0083 \n",
      "Epoca: 190 | MSE Perdida Entrenamiento: 0.0085 | MSE Perdida Prueba: 0.0083 \n",
      "Epoca: 200 | MSE Perdida Entrenamiento: 0.0083 | MSE Perdida Prueba: 0.0083 \n",
      "OrderedDict([('a', tensor([1.0518], device='mps:0')), ('b', tensor([1.9136], device='mps:0'))])\n"
     ]
    }
   ],
   "source": [
    "torch.manual_seed(42)\n",
    "\n",
    "# Crear lista vacias para guardar los valores de las perdidas\n",
    "perdidas_entrenamiento = []\n",
    "perdidas_prueba = []\n",
    "conteo_epocas = []\n",
    "\n",
    "# Ahora podemos crear un modelo y enviarlo de inmediato al dispositivo\n",
    "modelo_0 = RegresionLinealManual().to(dispositivo)\n",
    "# También podemos inspeccionar sus parámetros usando su state_dict\n",
    "print(modelo_0.state_dict())\n",
    "\n",
    "# Fijar hiperparámetros\n",
    "tasa_aprendizaje = 1e-1\n",
    "n_epocas = 200\n",
    "\n",
    "# Definir la función de perdida\n",
    "perdida_fn = nn.MSELoss(reduction='mean')\n",
    "\n",
    "#Defimir el optimizador a utilizar\n",
    "optimizador = optim.SGD(modelo_0.parameters(), lr=tasa_aprendizaje)\n",
    "\n",
    "for epoca in range(n_epocas + 1):\n",
    "    ### Entrenamiento\n",
    "    \n",
    "    # Poner el modelo en modo de entrenamiento (este es el estado predeterminado de un modelo)\n",
    "    modelo_0.train()\n",
    "\n",
    "    # 1. Propagar hacia adelante los datos de entrenamiento usando el método forward() dentro\n",
    "    y_sombrero = modelo_0(x_entrenamiento_tensor)\n",
    "\n",
    "    # 2. Calcule la pérdida (qué tan diferentes son las predicciones de nuestros modelos con respecto a la verdad del terreno)\n",
    "    perdida = perdida_fn(y_entrenamiento_tensor, y_sombrero)\n",
    "\n",
    "    # 3. Cero los gradientes del optimizador\n",
    "    optimizador.zero_grad()\n",
    "\n",
    "    # 4. Propagación hacia atrás\n",
    "    perdida.backward()\n",
    "\n",
    "    # 5. Realizar paso de optimización\n",
    "    optimizador.step()\n",
    "\n",
    "    ### Prueba\n",
    "\n",
    "    # Colocar el modelo en modo evaluación\n",
    "    modelo_0.eval()\n",
    "\n",
    "    with torch.inference_mode():\n",
    "        # 1. Propagar hacia adelante los datos de prueba\n",
    "        prediccion_prueba = modelo_0(x_validacion_tensor)\n",
    "        \n",
    "        # 2. Calcular la perdida sobre la data de prueba\n",
    "        perdida_prueba = perdida_fn(prediccion_prueba, y_validacion_tensor)\n",
    "        \n",
    "        conteo_epocas.append(epoca)\n",
    "        perdidas_entrenamiento.append(perdida.cpu().numpy())\n",
    "        perdidas_prueba.append(perdida_prueba.cpu().numpy())\n",
    "        \n",
    "        # Imprimir las perdidas cada 10 epocas\n",
    "        if epoca % 10 == 0:\n",
    "            print(f\"Epoca: {epoca} | MSE Perdida Entrenamiento: {perdida:.4f} | MSE Perdida Prueba: {perdida_prueba:.4f} \")\n",
    "    \n",
    "print(modelo_0.state_dict())"
   ]
  },
  {
   "cell_type": "code",
   "execution_count": 47,
   "metadata": {},
   "outputs": [
    {
     "data": {
      "image/png": "[encoded data removed]",
      "text/plain": [
       "<Figure size 432x288 with 1 Axes>"
      ]
     },
     "metadata": {
      "needs_background": "light"
     },
     "output_type": "display_data"
    }
   ],
   "source": [
    "# Graficar las curvas de perdidas\n",
    "plt.plot(conteo_epocas, perdidas_entrenamiento, label=\"Perdida entrenamiento\")\n",
    "plt.plot(conteo_epocas, perdidas_prueba, label=\"Perdida prueba\")\n",
    "plt.title(\"Curvas de perdidas de entrenamiento y prueba\")\n",
    "plt.ylabel(\"Perdida\")\n",
    "plt.xlabel(\"Epocas\")\n",
    "plt.legend();"
   ]
  }
 ],
 "metadata": {
  "kernelspec": {
   "display_name": "Python 3 (ipykernel)",
   "language": "python",
   "name": "python3"
  },
  "language_info": {
   "codemirror_mode": {
    "name": "ipython",
    "version": 3
   },
   "file_extension": ".py",
   "mimetype": "text/x-python",
   "name": "python",
   "nbconvert_exporter": "python",
   "pygments_lexer": "ipython3",
   "version": "3.9.16"
  }
 },
 "nbformat": 4,
 "nbformat_minor": 4
}
