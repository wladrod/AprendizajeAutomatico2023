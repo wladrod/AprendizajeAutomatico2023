{
 "cells": [
  {
   "cell_type": "markdown",
   "metadata": {},
   "source": [
    "<center>\n",
    "    <h1>Tema 2: Apredizaje Supervisado</h1>\n",
    "    <h1>Clasificación</h1>\n",
    "    <h1>Perceptrón</h1>\n",
    "    <br>\n",
    "    <h5>Prof. Wladimir Rodriguez</h5>\n",
    "    <h5>wladimir@ula.ve</h5>\n",
    "    <h5>Departamento de Computación</h5>\n",
    "</center>"
   ]
  },
  {
   "cell_type": "markdown",
   "metadata": {},
   "source": [
    "# Algoritmos de Clasificación: El Perceptrón"
   ]
  },
  {
   "cell_type": "markdown",
   "metadata": {},
   "source": [
    "## Neuronas Artificiales"
   ]
  },
  {
   "cell_type": "markdown",
   "metadata": {},
   "source": [
    "Las neuronas biológicas son células nerviosas interconectadas en el cerebro que están involucradas en el procesamiento y transmisión de señales químicas y eléctricas. Las dendritas y el cuerpo celular de la neurona reciben señales de entrada excitatorias e inhibitorias de las neuronas vecinas; el cuerpo celular las combina e integra y emite señales de salida. El axón transporta esas señales a los terminales axónicos, que se encargan de distribuir información a un nuevo conjunto de neuronas"
   ]
  },
  {
   "cell_type": "markdown",
   "metadata": {},
   "source": [
    "<img src=\"../figuras/neurona.png\" width=\"50%\">"
   ]
  },
  {
   "cell_type": "markdown",
   "metadata": {},
   "source": [
    "## Neurona de McCulloch y Pitts"
   ]
  },
  {
   "cell_type": "markdown",
   "metadata": {},
   "source": [
    "El modelo de neuronas de McCulloch y Pitts, publicado en 1943, fue el primer intento de formalizar matemáticamente el comportamiento de una neurona y de estudiar sus implicaciones en su capacidad de computar y procesar la información.\n",
    "\n",
    "McCullock y Pitts describieron una célula nerviosa como una simple puerta lógica con salidas binarias; Múltiples señales llegan a las dendritas, se integran entonces en el cuerpo celular y, si la señal acumulada excede un cierto umbral, se genera una señal de salida que será transmitida por el axón.\n",
    "\n",
    "La neurona de McCulloch-Pitts es una unidad de cálculo que intenta modelar el comportamiento de una neurona \"natural\", similares a las que constituyen del cerebro humano. Ella es la unidad esencial con la cual se construye una red neuronal artificial."
   ]
  },
  {
   "cell_type": "markdown",
   "metadata": {},
   "source": [
    "El resultado del cálculo en una neurona consiste en realizar una suma ponderada de las entradas, seguida de la aplicación de una función no lineal, como se ilustra en la siguiente figura"
   ]
  },
  {
   "cell_type": "markdown",
   "metadata": {},
   "source": [
    "<img src=\"../figuras/neurona_artificial.png\" width=\"75%\">"
   ]
  },
  {
   "cell_type": "markdown",
   "metadata": {},
   "source": [
    "Esto se expresa matemáticamente como:\n",
    "\n",
    "$$salida = a(z)$$\n",
    "\n",
    "siendoː\n",
    "\n",
    "* $z = w_1x_1 + ⋯ + w_nx_n − 𝜭$  es la suma ponderada de las entradas.\n",
    "* $x_i$ es el valor de la i-ésima entrada.\n",
    "* $w_i$ es el peso de la conexión entre la i-ésima entrada y la neurona.\n",
    "* $𝜭$ es el valor umbral\n",
    "* $salida$ es la salida de la neurona.\n",
    "* $a$ es la función no lineal conocida como función de activación.\n",
    "\n",
    "La función de activación que se usa esː\n",
    "\n",
    "&nbsp;&nbsp;&nbsp;&nbsp;&nbsp;&nbsp;$a = \\left\\{\n",
    "\\begin{array}{ll}\n",
    "      1 & z\\geq 0 \\\\\n",
    "      0 & z\\lt 0 \\\\\n",
    "\\end{array} \n",
    "\\right.$"
   ]
  },
  {
   "cell_type": "markdown",
   "metadata": {},
   "source": [
    "## El Perceptrón de Rosenblatt"
   ]
  },
  {
   "cell_type": "markdown",
   "metadata": {},
   "source": [
    "En 1957 Frank Rosenblatt publicó el primer concepto de la regla de aprendizaje del perceptrón basado en el modelo de neuronas MCP (F. Rosenblatt, _The Perceptron, a Perceiving and Recognizing Automaton_, Cornell Aeronautical Laboratory). Con su regla del perceptron, Rosenblatt propuso un algoritmo que aprendería automáticamente los coeficientes de peso óptimos que luego se multiplican con los atributos de entrada para tomar la decisión de si una neurona se dispara o no. En el contexto del aprendizaje supervisado y la clasificación, tal algoritmo podría utilizarse para predecir si una muestra pertenecía a una clase u otra.\n",
    "\n",
    "Formalmente se puede plantear este problema como una tarea de clasificación binaria donde se hace referencia a dos clases, la clase 1 (clase positiva) y la clase -1 (clase negativa). Se puede entonces definir una función de activación $𝜙(z)$ la cual toma una combinación lineal de un vector de entrada **_x_** y un correspondiente vector de pesos **_w_**, donde $z$ es la llamada entrada de red $(z = w_1x_1 + ... + w_nx_n)$:\n",
    "\n",
    "&nbsp;&nbsp;&nbsp;&nbsp;&nbsp;&nbsp;$w = \\left[\\\n",
    "\\begin{array}{ll}\n",
    "      w_1 \\\\\n",
    "      \\vdots \\\\\n",
    "      w_n \\\\\n",
    "\\end{array} \n",
    "\\right]$,&nbsp;&nbsp;$ x= \\left[\\\n",
    "\\begin{array}{ll}\n",
    "      x_1 \\\\\n",
    "      \\vdots \\\\\n",
    "      x_n \\\\\n",
    "\\end{array} \n",
    "\\right]$"
   ]
  },
  {
   "cell_type": "markdown",
   "metadata": {},
   "source": [
    "Si la activación de una observación particular $x^{(i)}$ es mayor que un umbral definido 𝜽, se predice clase 1 de lo contrario se predice clase -1, en el Perceptron, la función de activación $𝜙(·)$ es una función escalón unitario, que a veces también se denomina función escalón de Heaviside:\n",
    "\n",
    "&nbsp;&nbsp;&nbsp;&nbsp;&nbsp;&nbsp;$𝜙(z) = \\left\\{\n",
    "\\begin{array}{ll}\n",
    "      1 & z\\geq 𝜽 \\\\\n",
    "      -1 & z\\lt 𝜽 \\\\\n",
    "\\end{array} \n",
    "\\right.$\n",
    "\n",
    "Para simplificar, podemos traer el umbral 𝜽 al lado izquierdo de la ecuación y definir un peso-cero como $w_0 = -𝜽$ y $x_0 = 1$, asi se puede escribir $z$ en una forma más compacta $z = w_0x_0 + w_1x_1 + ... + w_nx_n$ y\n",
    "\n",
    "&nbsp;&nbsp;&nbsp;&nbsp;&nbsp;&nbsp;$𝜙(z) = \\left\\{\n",
    "\\begin{array}{ll}\n",
    "      1 & z\\geq 0 \\\\\n",
    "      -1 & z\\lt 0 \\\\\n",
    "\\end{array} \n",
    "\\right.$"
   ]
  },
  {
   "cell_type": "markdown",
   "metadata": {},
   "source": [
    "El calculo de la suma de productos de los valores **_x_** y **_w_** se puede abreviar usando el producto escalar:\n",
    "\n",
    "&nbsp;&nbsp;&nbsp;&nbsp;&nbsp;&nbsp;$z = w_0x_0 + w_1x_1 + ... + w_nx_n = \\sum_{j=0}^{n}x_jw_j = w^Tx$\n",
    "\n",
    "La siguiente figura ilustra cómo la entrada $z = w^Tx$ es convertida a una salida binaria (-1 o 1) por la función de activación del perceptrón y cómo se puede utilizar para discriminar entre dos clases linealmente separables: "
   ]
  },
  {
   "cell_type": "markdown",
   "metadata": {},
   "source": [
    "<img src=\"../figuras/clasificacion_binaria.png\" width=\"75%\">"
   ]
  },
  {
   "cell_type": "markdown",
   "metadata": {},
   "source": [
    "## Algoritmo del Perceptrón de Rosenblatt"
   ]
  },
  {
   "cell_type": "markdown",
   "metadata": {},
   "source": [
    "La regla inicial de perceptrón de Rosenblatt es bastante simple y puede ser resumida por los siguientes pasos:\n",
    "1. Inicialice los pesos a _0_ o a números aleatorios pequeños.\n",
    "2. Para cada muestra de entrenamiento $x^{(i)}$ realice los siguientes pasos:\n",
    "    1. Calcule el valor de salida _ŷ_.\n",
    "    2. Actualizar los pesos y el sesgo.\n",
    "    \n",
    "Regla de actualización de los pesos y el sesgo\n",
    "\n",
    "&nbsp;&nbsp;&nbsp;&nbsp;&nbsp;&nbsp;$w_j = w_j + ∆w_j$ \n",
    "\n",
    "\n",
    "Los valores de actualización se calculan de la siguiente manera:\n",
    "\n",
    "&nbsp;&nbsp;&nbsp;&nbsp;&nbsp;&nbsp;$∆w_i = 𝜂 (y^{(i)} - ŷ^{(i)}) x_j^{(i)}$ \n",
    "\n",
    "\n",
    "\n",
    "Donde $η$ es la tasa de aprendizaje (una constante entre 0.0 y 1.0), $y^{(i)}$ es la etiqueta de la clase verdadera de la i-ésima muestra de entrenamiento, $ŷ^{(i)}$ es la etiqueta de la clase predicha.\n",
    "\n",
    "Si la predicción es correcta, los pesos no cambian:\n",
    "\n",
    "&nbsp;&nbsp;&nbsp;&nbsp;&nbsp;&nbsp;$∆w_j = 𝜂 (-1 - -1) x_j^{(i)} = 0$\n",
    "\n",
    "&nbsp;&nbsp;&nbsp;&nbsp;&nbsp;&nbsp;$∆w_j = 𝜂 (1 - 1) x_j^{(i)} = 0$\n",
    "\n",
    "Si la predcción es incorrecta, los pesos se ajustan hacia la clase positiva o negativa:\n",
    "\n",
    "&nbsp;&nbsp;&nbsp;&nbsp;&nbsp;&nbsp;$∆w_j = 𝜂 (1 - -1) x_j^{(i)} = 𝜂(2)x_j^{(i)}$\n",
    "\n",
    "&nbsp;&nbsp;&nbsp;&nbsp;&nbsp;&nbsp;$∆w_j = 𝜂 (-1 - 1) x_j^{(i)} = 𝜂(-2)x_j^{(i)}$\n",
    "\n",
    "La siguiente figura ilustra el concepto general del Perceptrón:"
   ]
  },
  {
   "cell_type": "markdown",
   "metadata": {},
   "source": [
    "<img src=\"../figuras/perceptron.png\" width=\"75%\">"
   ]
  },
  {
   "cell_type": "markdown",
   "metadata": {},
   "source": [
    "## Convergencia del algoritmo"
   ]
  },
  {
   "cell_type": "markdown",
   "metadata": {},
   "source": [
    "Convergencia garantizada si\n",
    "* Las dos clases son linealmente separables\n",
    "* La tasa de aprendizaje es lo suficientemente pequeña\n",
    "\n",
    "Si las clases no pueden ser separadas:\n",
    "* Establezca un número máximo de pasadas sobre el conjunto de datos de entrenamiento (épocas)\n",
    "* Establecer un umbral para el número de errores de clasificación a tolerar\n",
    "* De lo contrario, nunca dejará de actualizar los pesos (no convergerá)"
   ]
  },
  {
   "cell_type": "markdown",
   "metadata": {},
   "source": [
    "## Implementación del Perceptrón en PyTorch"
   ]
  },
  {
   "cell_type": "code",
   "execution_count": 2,
   "metadata": {},
   "outputs": [],
   "source": [
    "import torch\n",
    "import numpy as np\n",
    "import matplotlib.pyplot as plt"
   ]
  },
  {
   "cell_type": "code",
   "execution_count": 3,
   "metadata": {},
   "outputs": [
    {
     "name": "stdout",
     "output_type": "stream",
     "text": [
      "Conteo de las clases: [50 50]\n",
      "X.shape: (100, 2)\n",
      "y.shape: (100,)\n"
     ]
    }
   ],
   "source": [
    "##########################\n",
    "### CONJUNTO DE DATOS\n",
    "##########################\n",
    "\n",
    "datos = np.genfromtxt('../datos/perceptron_data.txt', delimiter='\\t')\n",
    "X, y = datos[:, :2], datos[:, 2]\n",
    "y = y.astype(int)\n",
    "\n",
    "print('Conteo de las clases:', np.bincount(y))\n",
    "print('X.shape:', X.shape)\n",
    "print('y.shape:', y.shape)\n",
    "\n",
    "# Mezclar y dividir en entrenamiento/prueba\n",
    "mezclar_idx = np.arange(y.shape[0])\n",
    "mezclar_rng = np.random.RandomState(18)\n",
    "mezclar_rng.shuffle(mezclar_idx)\n",
    "X, y = X[mezclar_idx], y[mezclar_idx]\n",
    "\n",
    "X_entrenamiento, X_prueba = X[mezclar_idx[:70]], X[mezclar_idx[70:]]\n",
    "y_entrenamiento, y_prueba = y[mezclar_idx[:70]], y[mezclar_idx[70:]]\n",
    "\n",
    "# Normalize (mean zero, unit variance)\n",
    "mu, sigma = X_entrenamiento.mean(axis=0), X_entrenamiento.std(axis=0)\n",
    "X_entrenamiento = (X_entrenamiento - mu) / sigma\n",
    "X_prueba = (X_prueba - mu) / sigma"
   ]
  },
  {
   "cell_type": "markdown",
   "metadata": {},
   "source": [
    "### Visualizar los datos de entrenamiento"
   ]
  },
  {
   "cell_type": "code",
   "execution_count": 4,
   "metadata": {},
   "outputs": [
    {
     "data": {
      "image/png": "[encoded data removed]",
      "text/plain": [
       "<Figure size 640x480 with 1 Axes>"
      ]
     },
     "metadata": {},
     "output_type": "display_data"
    }
   ],
   "source": [
    "plt.scatter(X_entrenamiento[y_entrenamiento==0, 0], X_entrenamiento[y_entrenamiento==0, 1], label='clase 0', marker='o')\n",
    "plt.scatter(X_entrenamiento[y_entrenamiento==1, 0], X_entrenamiento[y_entrenamiento==1, 1], label='clase 1', marker='s')\n",
    "plt.title('Conjunto de Entrenamiento')\n",
    "plt.xlabel('atributo 1')\n",
    "plt.ylabel('atributo 2')\n",
    "plt.xlim([-3, 3])\n",
    "plt.ylim([-3, 3])\n",
    "plt.legend();"
   ]
  },
  {
   "cell_type": "markdown",
   "metadata": {},
   "source": [
    "### Visualizar los datos de entrenamiento"
   ]
  },
  {
   "cell_type": "code",
   "execution_count": 5,
   "metadata": {},
   "outputs": [
    {
     "data": {
      "image/png": "[encoded data removed]",
      "text/plain": [
       "<Figure size 640x480 with 1 Axes>"
      ]
     },
     "metadata": {},
     "output_type": "display_data"
    }
   ],
   "source": [
    "plt.scatter(X_prueba[y_prueba==0, 0], X_prueba[y_prueba==0, 1], label='clase 0', marker='o')\n",
    "plt.scatter(X_prueba[y_prueba==1, 0], X_prueba[y_prueba==1, 1], label='clase 1', marker='s')\n",
    "plt.title('Conjunto de Prueba')\n",
    "plt.xlabel('atributo 1')\n",
    "plt.ylabel('atributo 2')\n",
    "plt.xlim([-3, 3])\n",
    "plt.ylim([-3, 3])\n",
    "plt.legend();"
   ]
  },
  {
   "cell_type": "markdown",
   "metadata": {},
   "source": [
    "### Definir Clase Perceptron en Pytorch"
   ]
  },
  {
   "cell_type": "code",
   "execution_count": 6,
   "metadata": {},
   "outputs": [],
   "source": [
    "# dispositivo = torch.device(\"cuda:0\" if torch.cuda.is_available() else \"cpu\")\n",
    "dispositivo = torch.device('mps' if torch.backends.mps.is_available() else 'cpu')\n",
    "\n",
    "class Perceptron():\n",
    "    def __init__(self, num_atributos):\n",
    "        self.num_atributos = num_atributos\n",
    "        self.pesos = torch.zeros(num_atributos, 1, \n",
    "                                   dtype=torch.float32, device=dispositivo)\n",
    "        self.sesgo = torch.zeros(1, dtype=torch.float32, device=dispositivo)\n",
    "\n",
    "    def forward(self, x):\n",
    "        linear = torch.mm(x, self.pesos) + self.sesgo\n",
    "        predicciones = torch.where(linear > 0., torch.ones(1, device=dispositivo), torch.zeros(1, device=dispositivo))\n",
    "        return predicciones\n",
    "        \n",
    "    def backward(self, x, y):  \n",
    "        predicciones = self.forward(x)\n",
    "        errores = y - predicciones\n",
    "        return errores\n",
    "        \n",
    "    def train(self, x, y, epocas):\n",
    "        for e in range(epocas):\n",
    "            \n",
    "            for i in range(y.shape[0]):\n",
    "                # use view because backward expects a matrix (i.e., 2D tensor)\n",
    "                errores = self.backward(x[i].reshape(1, self.num_atributos), y[i]).reshape(-1)\n",
    "                self.pesos += (errores * x[i]).reshape(self.num_atributos, 1)\n",
    "                self.sesgo += errores\n",
    "                \n",
    "    def evaluate(self, x, y):\n",
    "        predicciones = self.forward(x).reshape(-1)\n",
    "        exactitud = torch.sum(predicciones == y).float() / y.shape[0]\n",
    "        return exactitud"
   ]
  },
  {
   "cell_type": "markdown",
   "metadata": {},
   "source": [
    "### Instanciar el Perceptron y convertir datos a tensores pytorch"
   ]
  },
  {
   "cell_type": "code",
   "execution_count": 7,
   "metadata": {},
   "outputs": [],
   "source": [
    "ppn = Perceptron(num_atributos=2)\n",
    "\n",
    "X_entrenamiento_tensor = torch.tensor(X_entrenamiento, dtype=torch.float32, device=dispositivo)\n",
    "y_entrenamiento_tensor = torch.tensor(y_entrenamiento, dtype=torch.float32, device=dispositivo)"
   ]
  },
  {
   "cell_type": "markdown",
   "metadata": {},
   "source": [
    "### Entrenar el modelo"
   ]
  },
  {
   "cell_type": "code",
   "execution_count": 8,
   "metadata": {},
   "outputs": [
    {
     "name": "stdout",
     "output_type": "stream",
     "text": [
      "Parámetros del modelo:\n",
      "  Pesos: tensor([[2.5702],\n",
      "        [0.8841]], device='mps:0')\n",
      "  Sesgo: tensor([-1.], device='mps:0')\n"
     ]
    }
   ],
   "source": [
    "ppn.train(X_entrenamiento_tensor, y_entrenamiento_tensor, epocas=5)\n",
    "\n",
    "print('Parámetros del modelo:')\n",
    "print('  Pesos: %s' % ppn.pesos)\n",
    "print('  Sesgo: %s' % ppn.sesgo)"
   ]
  },
  {
   "cell_type": "markdown",
   "metadata": {},
   "source": [
    "### Evaluar el modelo"
   ]
  },
  {
   "cell_type": "code",
   "execution_count": 9,
   "metadata": {},
   "outputs": [
    {
     "name": "stdout",
     "output_type": "stream",
     "text": [
      "Exactitud Conjunto de Prueba: 93.33%\n"
     ]
    }
   ],
   "source": [
    "X_prueba_tensor = torch.tensor(X_prueba, dtype=torch.float32, device=dispositivo)\n",
    "y_prueba_tensor = torch.tensor(y_prueba, dtype=torch.float32, device=dispositivo)\n",
    "\n",
    "exactitud_prueba = ppn.evaluate(X_prueba_tensor, y_prueba_tensor)\n",
    "print(f'Exactitud Conjunto de Prueba: {exactitud_prueba*100:.2f}%')"
   ]
  },
  {
   "cell_type": "markdown",
   "metadata": {},
   "source": [
    "### Graficar la frontera de decisión"
   ]
  },
  {
   "cell_type": "code",
   "execution_count": 10,
   "metadata": {},
   "outputs": [
    {
     "data": {
      "text/plain": [
       "<matplotlib.legend.Legend at 0x1631bda60>"
      ]
     },
     "execution_count": 10,
     "metadata": {},
     "output_type": "execute_result"
    },
    {
     "data": {
      "image/png": "[encoded data removed]",
      "text/plain": [
       "<Figure size 700x300 with 2 Axes>"
      ]
     },
     "metadata": {},
     "output_type": "display_data"
    }
   ],
   "source": [
    "##########################\n",
    "### Frontera de Decisión en 2D\n",
    "##########################\n",
    "\n",
    "pesos, sesgo = ppn.pesos, ppn.sesgo\n",
    "\n",
    "x0_min = -2\n",
    "x1_min = ( (-(pesos[0] * x0_min) - sesgo[0]) \n",
    "          / pesos[1] ).cpu().numpy()\n",
    "\n",
    "x0_max = 2\n",
    "x1_max = ( (-(pesos[0] * x0_max) - sesgo[0]) \n",
    "          / pesos[1] ).cpu().numpy()\n",
    "\n",
    "\n",
    "fig, ax = plt.subplots(1, 2, sharex=True, figsize=(7, 3))\n",
    "\n",
    "ax[0].plot([x0_min, x0_max], [x1_min, x1_max])\n",
    "ax[1].plot([x0_min, x0_max], [x1_min, x1_max])\n",
    "\n",
    "ax[0].scatter(X_entrenamiento[y_entrenamiento==0, 0], X_entrenamiento[y_entrenamiento==0, 1], label='clase 0', marker='o')\n",
    "ax[0].scatter(X_entrenamiento[y_entrenamiento==1, 0], X_entrenamiento[y_entrenamiento==1, 1], label='clase 1', marker='s')\n",
    "\n",
    "ax[1].scatter(X_prueba[y_prueba==0, 0], X_prueba[y_prueba==0, 1], label='clase 0', marker='o')\n",
    "ax[1].scatter(X_prueba[y_prueba==1, 0], X_prueba[y_prueba==1, 1], label='clase 1', marker='s')\n",
    "\n",
    "ax[1].legend(loc='upper left')"
   ]
  },
  {
   "cell_type": "markdown",
   "metadata": {},
   "source": [
    "# El Adaline (Adaptive linear neurons) y la convergencia del aprendizaje"
   ]
  },
  {
   "cell_type": "markdown",
   "metadata": {},
   "source": [
    "El Adaline (ADAptive LInear NEuron) fue publicado por Bernard Widrow y su estudiante de doctorado Tedd Hoff, unos años después del algoritmo perceptrón de Frank Rosenblatt, y puede ser considerado como una mejora en este último\n",
    "(B. Widrow y otros, _An Adaptive \"Adaline\" neuron using chemical \"memistors\"_, Reporte técnico número 1553-2. Stanford Electron. Labs, Stanford, CA, Octubre 1960). El algoritmo de Adaline es particularmente interesante porque ilustra el concepto clave de definir y minimizar las funciones de coste, lo que sentará las bases para el entendimiento de algoritmos de aprendizaje automáticos más avanzados para la clasificación, como la regresión logística y máquinas de soporte vectoriales (SVM)."
   ]
  },
  {
   "cell_type": "markdown",
   "metadata": {},
   "source": [
    "La diferencia clave entre la regla de Adaline (también conocida como la regla de Widrow-Hoff) y la del perceptron de Rosenblatt es que los pesos se actualizan sobre la base de una función de activación lineal en lugar de una función de escalón unitario como en el perceptron. En Adaline, esta función de activación lineal $𝜙(z)$ es simplemente la función de identidad de la entrada de manera que $𝜙(w^Tx) = w^Tx$."
   ]
  },
  {
   "cell_type": "markdown",
   "metadata": {},
   "source": [
    "Mientras que la función de activación lineal se utiliza para aprender los pesos, un cuantificador, que es similar a la función de escalón unitario que hemos visto antes, puede ser usado para predecir las etiquetas de clase, como se ilustra en la siguiente figura:"
   ]
  },
  {
   "cell_type": "markdown",
   "metadata": {},
   "source": [
    "<img src=\"../figuras/adaline.png\" width=\"75%\">"
   ]
  },
  {
   "cell_type": "markdown",
   "metadata": {},
   "source": [
    "## Funciones de Coste"
   ]
  },
  {
   "cell_type": "markdown",
   "metadata": {},
   "source": [
    "Uno de los ingredientes clave de los algoritmos supervisados de aprendizaje automático es definir una función objetiva que se debe optimizar durante el proceso de aprendizaje. Esta función objetivo es a menudo una función de coste que queremos minimizar. En el caso del Adaline, podemos determinar la función de coste J para aprender los pesos como el error cuadrático medio (MSE) entre el resultado calculado y la etiqueta de clase verdadera.\n",
    "\n",
    "&nbsp;&nbsp;&nbsp;&nbsp;&nbsp;&nbsp;$J(w) = \\frac{1}{2n}\\sum_{i}(y^{(i)}-𝜙(z^{(i)}))^2$\n",
    "\n",
    "La ventaja principal de esta función de activación lineal continua es que la función de coste se vuelve diferenciable. Otra propiedad importante de esta función de coste es que es convexa; Por lo tanto, podemos usar un algoritmo de optimización simple, pero potente, llamado descenso de gradiente para encontrar los pesos que minimizan nuestra función de coste para clasificar las muestras en el conjunto de datos."
   ]
  },
  {
   "cell_type": "markdown",
   "metadata": {},
   "source": [
    "## Descenso del Gradiente"
   ]
  },
  {
   "cell_type": "markdown",
   "metadata": {},
   "source": [
    "Como se ilustra en la siguiente figura, se puede describir el principio detrás del descenso del gradiente como bajar una colina hasta alcanzar un mínimo de coste local o global. En cada iteración, se toma un paso en sentido contrario del gradiente donde el tamaño del paso se determina por el valor de la tasa de aprendizaje, así como la pendiente del gradiente:"
   ]
  },
  {
   "cell_type": "markdown",
   "metadata": {},
   "source": [
    "<img src=\"../figuras/gradiente.png\" width=\"50%\">"
   ]
  },
  {
   "cell_type": "markdown",
   "metadata": {},
   "source": [
    "Usando descenso del gradiente, se pueden actualizar los pesos tomando un paso en sentido contrario al gradiente $∇J(w)$  de la finción de coste $J(w)$\n",
    "\n",
    "&nbsp;&nbsp;&nbsp;&nbsp;&nbsp;&nbsp;$w = w + ∆w$\n",
    "\n",
    "Donde, el cambio de los pesos $∆w$ es definido como gradiente negativo multiplicado por la tasa de aprendizaje _η_:\n",
    "\n",
    "&nbsp;&nbsp;&nbsp;&nbsp;&nbsp;&nbsp;$∆w = -η∆J(w)$\n",
    "\n",
    "Para calcular el gradiente de la función de coste, se necesita calcular la derivada parcial de la función de coste con respecto a cada peso $w_j$,\n",
    "\n",
    "&nbsp;&nbsp;&nbsp;&nbsp;&nbsp;&nbsp;$\\frac{∂J}{∂w_j} = -\\sum_{i}(y^{(i)}-𝜙(z^{(i)}))x_{j}^{(i)}$\n",
    "\n",
    "de esta forma se puede escribir la actualización del peso $w_j$ como:\n",
    "\n",
    "&nbsp;&nbsp;&nbsp;&nbsp;&nbsp;&nbsp;$∆w_{j} = -η\\frac{∂J}{∂w_j} = η\\sum_{i}(y^{(i)}-𝜙(z^{(i)}))x_{j}^{(i)}$\n",
    "\n",
    "Como todos los pesos se actualizan simultaneamente, la regla de aprendizaje del Adaline se convierte en:\n",
    "\n",
    "&nbsp;&nbsp;&nbsp;&nbsp;&nbsp;&nbsp;$w = w + ∆w$\n",
    "\n",
    "Aunque la regla de aprendizaje del Adalina se parece a la del Perceptrón, la $𝜙(z^{(i)})$ con $z^{(i)} = w^{T}x^{(i)}$ es un número real y no una etiqueta de clase entera. Además, la actualización de los pesos se calcula tomando en cuenta todos las muestras del conjunto de entrenamiento, en vez de, actualizar los pesos incrementalmente despues de cada muestra. Por lo que a este enfoque se le denomina descenso del gradiente por lotes."
   ]
  },
  {
   "cell_type": "markdown",
   "metadata": {},
   "source": [
    "## Derivación de la derivada parcial de la suma al cuadrado de los errores"
   ]
  },
  {
   "cell_type": "markdown",
   "metadata": {},
   "source": [
    "La derivada parcial de SCE con respecto a $w_j$ se puede obtener de la siguente forma:\n",
    "    \n",
    "&nbsp;&nbsp;&nbsp;&nbsp;&nbsp;&nbsp;$\\frac{∂J}{∂w_j} = \\frac{∂}{∂w_j}\\frac{1}{2}\\sum_{i}(y^{(i)}-𝜙(z^{(i)}))^2$\n",
    "\n",
    "&nbsp;&nbsp;&nbsp;&nbsp;&nbsp;&nbsp;$= \\frac{1}{2}\\frac{∂}{∂w_j}\\sum_{i}(y^{(i)}-𝜙(z^{(i)}))^2$\n",
    "\n",
    "&nbsp;&nbsp;&nbsp;&nbsp;&nbsp;&nbsp;$= \\frac{1}{2}\\sum_{i}2(y^{(i)}-𝜙(z^{(i)}))\\frac{∂}{∂w_j}(y^{(i)}-𝜙(z^{(i)}))$\n",
    "\n",
    "&nbsp;&nbsp;&nbsp;&nbsp;&nbsp;&nbsp;$= \\sum_{i}(y^{(i)}-𝜙(z^{(i)}))\\frac{∂}{∂w_j}(y^{(i)}-\\sum_{i}(w_j^{(i)}x_j^{(i)}))$\n",
    "\n",
    "&nbsp;&nbsp;&nbsp;&nbsp;&nbsp;&nbsp;$= \\sum_{i}(y^{(i)}-𝜙(z^{(i)}))(-x_j^{(i)})$\n",
    "\n",
    "&nbsp;&nbsp;&nbsp;&nbsp;&nbsp;&nbsp;$= -\\sum_{i}(y^{(i)}-𝜙(z^{(i)}))x_j^{(i)}$"
   ]
  },
  {
   "cell_type": "markdown",
   "metadata": {},
   "source": [
    "## Descenso del gradiente estocástico"
   ]
  },
  {
   "cell_type": "markdown",
   "metadata": {},
   "source": [
    "En este método de minimización de una función de coste dando un paso en la dirección opuesta al gradiente, es necesario usar para su calculo todo el conjunto de entrenamiento. Es por esta razón que este enfoque a veces también se conoce como descenso del gradiente por lotes. En el caso que se tenga un conjunto de datos muy grande con millones de datos, lo que no es infrecuente en muchas aplicaciones de aprendizaje automático. La ejecución del descenso del gradiente por lote puede ser computacionalmente bastante costoso en tales escenarios, ya que se necesita reevaluar todo el conjunto de datos de entrenamiento cada vez que damos un paso hacia el mínimo global.\n",
    "\n",
    "Una alternativa muy popular al descenso del gradiente por lote es el descenso del gradiente estocástico, tambien llamdo descenso del gradiente iterativo o en-linea. En vez de actualizar los pesos basado en la suma de los errores acumulados sobre todas las muestras $x^{(i)}:\n",
    "\n",
    "&nbsp;&nbsp;&nbsp;&nbsp;&nbsp;&nbsp;$∆w_{j} = η\\sum_{i}(y^{(i)}-𝜙(z^{(i)}))x_{j}^{(i)}$,\n",
    "\n",
    "Se actualizan los pesos incrementalmente para cada ejemplo de entrenamiento:\n",
    "\n",
    "&nbsp;&nbsp;&nbsp;&nbsp;&nbsp;&nbsp;$η(y^{(i)}-𝜙(z^{(i)}))x_{j}^{(i)}$\n",
    "\n",
    "Aunque el descenso del gradiente estocástico puede considerarse como una aproximación del descenso del gradiente, alcanza típicamente la convergencia mucho más rápidamente debido a las actualizaciones más frecuentes de los pesos. Puesto que cada gradiente se calcula sobre la base de un solo ejemplo de entrenamiento, la superficie de error es más ruidosa que en el descenso del gradiente, lo que también puede tener la ventaja de que el descenso del gradiente estocástico puede escapar de los mínimos locales superficiales más fácilmente. Para obtener resultados precisos a través del descenso del gradiente estocástico, es importante presentarlos con datos en un orden aleatorio, por lo que se revuelve el conjunto de entrenamiento para cada época para prevenir ciclos."
   ]
  },
  {
   "cell_type": "markdown",
   "metadata": {},
   "source": [
    "## Implementación del Adaline (Adaptive linear neuron) en Pytorch"
   ]
  },
  {
   "cell_type": "markdown",
   "metadata": {},
   "source": [
    "### Leer el conjunto de datos Iris"
   ]
  },
  {
   "cell_type": "code",
   "execution_count": 12,
   "metadata": {},
   "outputs": [
    {
     "data": {
      "text/html": [
       "<div>\n",
       "<style scoped>\n",
       "    .dataframe tbody tr th:only-of-type {\n",
       "        vertical-align: middle;\n",
       "    }\n",
       "\n",
       "    .dataframe tbody tr th {\n",
       "        vertical-align: top;\n",
       "    }\n",
       "\n",
       "    .dataframe thead th {\n",
       "        text-align: right;\n",
       "    }\n",
       "</style>\n",
       "<table border=\"1\" class=\"dataframe\">\n",
       "  <thead>\n",
       "    <tr style=\"text-align: right;\">\n",
       "      <th></th>\n",
       "      <th>x1</th>\n",
       "      <th>x2</th>\n",
       "      <th>x3</th>\n",
       "      <th>x4</th>\n",
       "      <th>y</th>\n",
       "    </tr>\n",
       "  </thead>\n",
       "  <tbody>\n",
       "    <tr>\n",
       "      <th>145</th>\n",
       "      <td>6.7</td>\n",
       "      <td>3.0</td>\n",
       "      <td>5.2</td>\n",
       "      <td>2.3</td>\n",
       "      <td>1</td>\n",
       "    </tr>\n",
       "    <tr>\n",
       "      <th>146</th>\n",
       "      <td>6.3</td>\n",
       "      <td>2.5</td>\n",
       "      <td>5.0</td>\n",
       "      <td>1.9</td>\n",
       "      <td>1</td>\n",
       "    </tr>\n",
       "    <tr>\n",
       "      <th>147</th>\n",
       "      <td>6.5</td>\n",
       "      <td>3.0</td>\n",
       "      <td>5.2</td>\n",
       "      <td>2.0</td>\n",
       "      <td>1</td>\n",
       "    </tr>\n",
       "    <tr>\n",
       "      <th>148</th>\n",
       "      <td>6.2</td>\n",
       "      <td>3.4</td>\n",
       "      <td>5.4</td>\n",
       "      <td>2.3</td>\n",
       "      <td>1</td>\n",
       "    </tr>\n",
       "    <tr>\n",
       "      <th>149</th>\n",
       "      <td>5.9</td>\n",
       "      <td>3.0</td>\n",
       "      <td>5.1</td>\n",
       "      <td>1.8</td>\n",
       "      <td>1</td>\n",
       "    </tr>\n",
       "  </tbody>\n",
       "</table>\n",
       "</div>"
      ],
      "text/plain": [
       "      x1   x2   x3   x4  y\n",
       "145  6.7  3.0  5.2  2.3  1\n",
       "146  6.3  2.5  5.0  1.9  1\n",
       "147  6.5  3.0  5.2  2.0  1\n",
       "148  6.2  3.4  5.4  2.3  1\n",
       "149  5.9  3.0  5.1  1.8  1"
      ]
     },
     "execution_count": 12,
     "metadata": {},
     "output_type": "execute_result"
    }
   ],
   "source": [
    "import pandas as pd\n",
    "\n",
    "df = pd.read_csv('../datos/iris.csv', header=None)\n",
    "df.columns = ['x1', 'x2', 'x3', 'x4', 'y']\n",
    "df = df.iloc[50:150]\n",
    "df['y'] = df['y'].apply(lambda x: 0 if x == 'Iris-versicolor' else 1)\n",
    "df.tail()"
   ]
  },
  {
   "cell_type": "code",
   "execution_count": 13,
   "metadata": {},
   "outputs": [],
   "source": [
    "\n",
    "# Asignar atributos y objetivo\n",
    "\n",
    "X = torch.tensor(df[['x2', 'x3']].values, dtype=torch.float)\n",
    "y = torch.tensor(df['y'].values, dtype=torch.int)\n",
    "\n",
    "# Mezclar y dividir en entrenamiento/prueba\n",
    "\n",
    "torch.manual_seed(18)\n",
    "mezcla_idx = torch.randperm(y.size(0), dtype=torch.long)\n",
    "\n",
    "X, y = X[mezcla_idx], y[mezcla_idx]\n",
    "\n",
    "porcentaje70 = int(mezcla_idx.size(0)*0.7)\n",
    "\n",
    "X_entrenamiento, X_prueba = X[mezcla_idx[:porcentaje70]], X[mezcla_idx[porcentaje70:]]\n",
    "y_entrenamiento, y_prueba = y[mezcla_idx[:porcentaje70]], y[mezcla_idx[porcentaje70:]]\n",
    "\n",
    "# Normalizar (media cero, desviación estándar uno)\n",
    "\n",
    "mu, sigma = X_entrenamiento.mean(dim=0), X_entrenamiento.std(dim=0)\n",
    "X_entrenamiento = (X_entrenamiento - mu) / sigma\n",
    "X_prueba = (X_prueba - mu) / sigma"
   ]
  },
  {
   "cell_type": "markdown",
   "metadata": {},
   "source": [
    "### Graficar los datos de Iris"
   ]
  },
  {
   "cell_type": "code",
   "execution_count": 14,
   "metadata": {},
   "outputs": [
    {
     "data": {
      "image/png": "[encoded data removed]",
      "text/plain": [
       "<Figure size 640x480 with 1 Axes>"
      ]
     },
     "metadata": {},
     "output_type": "display_data"
    }
   ],
   "source": [
    "plt.scatter(X_entrenamiento[y_entrenamiento == 0, 0], X_entrenamiento[y_entrenamiento == 0, 1], label='clase 0')\n",
    "plt.scatter(X_entrenamiento[y_entrenamiento == 1, 0], X_entrenamiento[y_entrenamiento == 1, 1], label='clase 1')\n",
    "plt.legend()\n",
    "plt.show()"
   ]
  },
  {
   "cell_type": "code",
   "execution_count": 15,
   "metadata": {},
   "outputs": [
    {
     "data": {
      "image/png": "[encoded data removed]",
      "text/plain": [
       "<Figure size 640x480 with 1 Axes>"
      ]
     },
     "metadata": {},
     "output_type": "display_data"
    }
   ],
   "source": [
    "plt.scatter(X_prueba[y_prueba == 0, 0], X_prueba[y_prueba == 0, 1], label='clase 0')\n",
    "plt.scatter(X_prueba[y_prueba == 1, 0], X_prueba[y_prueba == 1, 1], label='clase 1')\n",
    "plt.legend()\n",
    "plt.show()"
   ]
  },
  {
   "cell_type": "code",
   "execution_count": 31,
   "metadata": {},
   "outputs": [],
   "source": [
    "class AdalineSGD():\n",
    "    def __init__(self, num_atributos):\n",
    "        self.num_features = num_atributos\n",
    "        self.pesos = torch.zeros(num_atributos, 1, \n",
    "                                   dtype=torch.float)\n",
    "        self.sesgo = torch.zeros(1, dtype=torch.float)\n",
    "\n",
    "    def forward(self, x):\n",
    "        entrada_neurona = torch.add(torch.mm(x, self.pesos), self.sesgo)\n",
    "        activaciones = entrada_neurona\n",
    "        return activaciones.view(-1)\n",
    "        \n",
    "    def backward(self, x, ypred, y):  \n",
    "        \n",
    "        grad_perdida_ypred = 2*(ypred - y)\n",
    "        \n",
    "        grad_ypred_pesos = x\n",
    "        grad_ypred_sesgo = torch.tensor(1.)\n",
    "        \n",
    "        # Regla de la cadena: interno * externo \n",
    "        grad_perdida_pesos = torch.mm(grad_ypred_pesos.t(),\n",
    "                                         grad_perdida_ypred.view(-1, 1)) / y.size(0)\n",
    "\n",
    "        grad_perdida_sesgo = torch.sum(grad_ypred_sesgo * grad_perdida_ypred) / y.size(0)\n",
    "        \n",
    "        # return negative gradient\n",
    "        return (-1)*grad_perdida_pesos, (-1)*grad_perdida_sesgo"
   ]
  },
  {
   "cell_type": "code",
   "execution_count": 53,
   "metadata": {},
   "outputs": [],
   "source": [
    "####################################################\n",
    "##### Training and evaluation wrappers\n",
    "###################################################\n",
    "\n",
    "def perdida(ypred, y):\n",
    "    return torch.mean((ypred - y)**2)\n",
    "\n",
    "\n",
    "def train(modelo, x, y, num_epocas,\n",
    "          taza_aprendizaje=0.01, semilla=18, tamaño_lote=10):\n",
    "    costo = []\n",
    "    \n",
    "    torch.manual_seed(semilla)\n",
    "    for e in range(num_epocas):\n",
    "        \n",
    "        #### Mezclar epoca\n",
    "        mezclar_idx = torch.randperm(y.size(0), dtype=torch.long)\n",
    "        minilotes = torch.split(mezclar_idx, tamaño_lote)\n",
    "        \n",
    "        for minilote_idx in minilotes:\n",
    "\n",
    "            #### Calcular salida ####\n",
    "            ypred = modelo.forward(x[minilote_idx])\n",
    "            \n",
    "            #### Calcular gradiente ####\n",
    "            grad_negativo_pesos, grad_negativo_sesgo = modelo.backward(x[minilote_idx], ypred, y[minilote_idx])\n",
    "\n",
    "            #### Actualizar los pesos ####\n",
    "            modelo.pesos += taza_aprendizaje * grad_negativo_pesos\n",
    "            modelo.sesgo += taza_aprendizaje * grad_negativo_sesgo\n",
    "            \n",
    "            ####  ####\n",
    "            minilote_perdida = perdida(ypred, y[minilote_idx])\n",
    "            print(f'    Minilote MSE: {minilote_perdida:.3f}')\n",
    "\n",
    "        #### Guardar  ####\n",
    "        ypred = modelo.forward(x)\n",
    "        perdida_actual = perdida(ypred, y)\n",
    "        print(f'Epoca: {e+1}', end=\"\")\n",
    "        print(f' | MSE: {perdida_actual:.5f}')\n",
    "        costo.append(perdida_actual)\n",
    "\n",
    "    return costo"
   ]
  },
  {
   "cell_type": "code",
   "execution_count": 52,
   "metadata": {},
   "outputs": [
    {
     "name": "stdout",
     "output_type": "stream",
     "text": [
      "    Minilote MSE: 0.500\n",
      "    Minilote MSE: 0.156\n",
      "    Minilote MSE: 0.357\n",
      "    Minilote MSE: 0.432\n",
      "    Minilote MSE: 0.245\n",
      "    Minilote MSE: 0.205\n",
      "    Minilote MSE: 0.076\n",
      "Epoch: 1 | MSE: 0.12603\n",
      "    Minilote MSE: 0.142\n",
      "    Minilote MSE: 0.076\n",
      "    Minilote MSE: 0.099\n",
      "    Minilote MSE: 0.092\n",
      "    Minilote MSE: 0.170\n",
      "    Minilote MSE: 0.075\n",
      "    Minilote MSE: 0.137\n",
      "Epoch: 2 | MSE: 0.10037\n",
      "    Minilote MSE: 0.035\n",
      "    Minilote MSE: 0.111\n",
      "    Minilote MSE: 0.138\n",
      "    Minilote MSE: 0.105\n",
      "    Minilote MSE: 0.190\n",
      "    Minilote MSE: 0.037\n",
      "    Minilote MSE: 0.092\n",
      "Epoch: 3 | MSE: 0.09773\n",
      "    Minilote MSE: 0.110\n",
      "    Minilote MSE: 0.102\n",
      "    Minilote MSE: 0.150\n",
      "    Minilote MSE: 0.094\n",
      "    Minilote MSE: 0.078\n",
      "    Minilote MSE: 0.055\n",
      "    Minilote MSE: 0.121\n",
      "Epoch: 4 | MSE: 0.09744\n",
      "    Minilote MSE: 0.123\n",
      "    Minilote MSE: 0.095\n",
      "    Minilote MSE: 0.080\n",
      "    Minilote MSE: 0.129\n",
      "    Minilote MSE: 0.154\n",
      "    Minilote MSE: 0.036\n",
      "    Minilote MSE: 0.093\n",
      "Epoch: 5 | MSE: 0.09756\n",
      "    Minilote MSE: 0.096\n",
      "    Minilote MSE: 0.111\n",
      "    Minilote MSE: 0.075\n",
      "    Minilote MSE: 0.050\n",
      "    Minilote MSE: 0.081\n",
      "    Minilote MSE: 0.163\n",
      "    Minilote MSE: 0.124\n",
      "Epoch: 6 | MSE: 0.09739\n",
      "    Minilote MSE: 0.089\n",
      "    Minilote MSE: 0.115\n",
      "    Minilote MSE: 0.112\n",
      "    Minilote MSE: 0.121\n",
      "    Minilote MSE: 0.081\n",
      "    Minilote MSE: 0.129\n",
      "    Minilote MSE: 0.085\n",
      "Epoch: 7 | MSE: 0.09695\n",
      "    Minilote MSE: 0.128\n",
      "    Minilote MSE: 0.146\n",
      "    Minilote MSE: 0.079\n",
      "    Minilote MSE: 0.032\n",
      "    Minilote MSE: 0.099\n",
      "    Minilote MSE: 0.117\n",
      "    Minilote MSE: 0.104\n",
      "Epoch: 8 | MSE: 0.09723\n",
      "    Minilote MSE: 0.102\n",
      "    Minilote MSE: 0.112\n",
      "    Minilote MSE: 0.111\n",
      "    Minilote MSE: 0.084\n",
      "    Minilote MSE: 0.088\n",
      "    Minilote MSE: 0.120\n",
      "    Minilote MSE: 0.096\n",
      "Epoch: 9 | MSE: 0.09718\n",
      "    Minilote MSE: 0.118\n",
      "    Minilote MSE: 0.139\n",
      "    Minilote MSE: 0.126\n",
      "    Minilote MSE: 0.050\n",
      "    Minilote MSE: 0.060\n",
      "    Minilote MSE: 0.100\n",
      "    Minilote MSE: 0.099\n",
      "Epoch: 10 | MSE: 0.09724\n",
      "    Minilote MSE: 0.119\n",
      "    Minilote MSE: 0.100\n",
      "    Minilote MSE: 0.090\n",
      "    Minilote MSE: 0.090\n",
      "    Minilote MSE: 0.124\n",
      "    Minilote MSE: 0.092\n",
      "    Minilote MSE: 0.089\n",
      "Epoch: 11 | MSE: 0.09693\n",
      "    Minilote MSE: 0.062\n",
      "    Minilote MSE: 0.074\n",
      "    Minilote MSE: 0.165\n",
      "    Minilote MSE: 0.165\n",
      "    Minilote MSE: 0.083\n",
      "    Minilote MSE: 0.063\n",
      "    Minilote MSE: 0.106\n",
      "Epoch: 12 | MSE: 0.09706\n",
      "    Minilote MSE: 0.073\n",
      "    Minilote MSE: 0.110\n",
      "    Minilote MSE: 0.098\n",
      "    Minilote MSE: 0.051\n",
      "    Minilote MSE: 0.175\n",
      "    Minilote MSE: 0.090\n",
      "    Minilote MSE: 0.123\n",
      "Epoch: 13 | MSE: 0.09747\n",
      "    Minilote MSE: 0.143\n",
      "    Minilote MSE: 0.109\n",
      "    Minilote MSE: 0.067\n",
      "    Minilote MSE: 0.090\n",
      "    Minilote MSE: 0.085\n",
      "    Minilote MSE: 0.108\n",
      "    Minilote MSE: 0.101\n",
      "Epoch: 14 | MSE: 0.09736\n",
      "    Minilote MSE: 0.152\n",
      "    Minilote MSE: 0.095\n",
      "    Minilote MSE: 0.101\n",
      "    Minilote MSE: 0.115\n",
      "    Minilote MSE: 0.070\n",
      "    Minilote MSE: 0.081\n",
      "    Minilote MSE: 0.089\n",
      "Epoch: 15 | MSE: 0.09692\n",
      "    Minilote MSE: 0.095\n",
      "    Minilote MSE: 0.060\n",
      "    Minilote MSE: 0.108\n",
      "    Minilote MSE: 0.093\n",
      "    Minilote MSE: 0.116\n",
      "    Minilote MSE: 0.068\n",
      "    Minilote MSE: 0.155\n",
      "Epoch: 16 | MSE: 0.09679\n",
      "    Minilote MSE: 0.140\n",
      "    Minilote MSE: 0.045\n",
      "    Minilote MSE: 0.115\n",
      "    Minilote MSE: 0.139\n",
      "    Minilote MSE: 0.073\n",
      "    Minilote MSE: 0.090\n",
      "    Minilote MSE: 0.101\n",
      "Epoch: 17 | MSE: 0.09749\n",
      "    Minilote MSE: 0.088\n",
      "    Minilote MSE: 0.125\n",
      "    Minilote MSE: 0.068\n",
      "    Minilote MSE: 0.096\n",
      "    Minilote MSE: 0.112\n",
      "    Minilote MSE: 0.116\n",
      "    Minilote MSE: 0.097\n",
      "Epoch: 18 | MSE: 0.09683\n",
      "    Minilote MSE: 0.073\n",
      "    Minilote MSE: 0.109\n",
      "    Minilote MSE: 0.076\n",
      "    Minilote MSE: 0.063\n",
      "    Minilote MSE: 0.125\n",
      "    Minilote MSE: 0.155\n",
      "    Minilote MSE: 0.104\n",
      "Epoch: 19 | MSE: 0.09683\n",
      "    Minilote MSE: 0.104\n",
      "    Minilote MSE: 0.116\n",
      "    Minilote MSE: 0.110\n",
      "    Minilote MSE: 0.089\n",
      "    Minilote MSE: 0.085\n",
      "    Minilote MSE: 0.081\n",
      "    Minilote MSE: 0.117\n",
      "Epoch: 20 | MSE: 0.09723\n"
     ]
    }
   ],
   "source": [
    "modelo = AdalineSGD(num_atributos=X_entrenamiento.size(1))\n",
    "costo = train(modelo, \n",
    "             X_entrenamiento, y_entrenamiento.float(),\n",
    "             num_epocas=20,\n",
    "             taza_aprendizaje=0.1,\n",
    "             semilla=18,\n",
    "             tamaño_lote=10)"
   ]
  },
  {
   "cell_type": "code",
   "execution_count": 40,
   "metadata": {},
   "outputs": [
    {
     "data": {
      "image/png": "[encoded data removed]",
      "text/plain": [
       "<Figure size 640x480 with 1 Axes>"
      ]
     },
     "metadata": {},
     "output_type": "display_data"
    }
   ],
   "source": [
    "plt.plot(range(len(costo)), costo)\n",
    "plt.ylabel('Error Cuadrático Medio')\n",
    "plt.xlabel('Epoca')\n",
    "plt.show()"
   ]
  },
  {
   "cell_type": "markdown",
   "metadata": {},
   "source": [
    "### Evaluar la exactitud de las predicciones"
   ]
  },
  {
   "cell_type": "code",
   "execution_count": 41,
   "metadata": {},
   "outputs": [
    {
     "name": "stdout",
     "output_type": "stream",
     "text": [
      "Exactitud Entrenamiento 92.86\n",
      "Exactitud preuba 93.33\n"
     ]
    }
   ],
   "source": [
    "unos = torch.ones(y_entrenamiento.size())\n",
    "ceros = torch.zeros(y_entrenamiento.size())\n",
    "pred_entrenamiento = modelo.forward(X_entrenamiento)\n",
    "exactitud_entrenamiento = torch.mean(\n",
    "    (torch.where(pred_entrenamiento > 0.5, \n",
    "                 unos, \n",
    "                 ceros).int() == y_entrenamiento).float())\n",
    "\n",
    "unos = torch.ones(y_prueba.size())\n",
    "ceros = torch.zeros(y_prueba.size())\n",
    "pred_prueba = modelo.forward(X_prueba)\n",
    "exactitud_prueba = torch.mean(\n",
    "    (torch.where(pred_prueba > 0.5, \n",
    "                 unos, \n",
    "                 ceros).int() == y_prueba).float())\n",
    "\n",
    "print(f'Exactitud Entrenamiento {exactitud_entrenamiento*100:.2f}')\n",
    "print(f'Exactitud preuba {exactitud_prueba*100:.2f}')"
   ]
  },
  {
   "cell_type": "code",
   "execution_count": 50,
   "metadata": {},
   "outputs": [
    {
     "data": {
      "image/png": "[encoded data removed]",
      "text/plain": [
       "<Figure size 700x300 with 2 Axes>"
      ]
     },
     "metadata": {},
     "output_type": "display_data"
    }
   ],
   "source": [
    "##########################\n",
    "### 2D Decision Boundary\n",
    "##########################\n",
    "\n",
    "pesos, sesgo = modelo.pesos, modelo.sesgo - 0.5\n",
    "\n",
    "x_min = -3\n",
    "y_min = ( (-(pesos[0] * x_min) - sesgo[0]) \n",
    "          / pesos[1] ).numpy()\n",
    "\n",
    "x_max = 3\n",
    "y_max = ( (-(pesos[0] * x_max) - sesgo[0]) \n",
    "          / pesos[1] ).numpy()\n",
    "\n",
    "\n",
    "fig, ax = plt.subplots(1, 2, sharex=True, figsize=(7, 3))\n",
    "\n",
    "ax[0].plot([x_min, x_max], [y_min, y_max])\n",
    "ax[1].plot([x_min, x_max], [y_min, y_max])\n",
    "\n",
    "ax[0].scatter(X_entrenamiento[y_entrenamiento==0, 0], X_entrenamiento[y_entrenamiento==0, 1], label='clase 0', marker='o')\n",
    "ax[0].scatter(X_entrenamiento[y_entrenamiento==1, 0], X_entrenamiento[y_entrenamiento==1, 1], label='clase 1', marker='o')\n",
    "\n",
    "ax[1].scatter(X_prueba[y_prueba==0, 0], X_prueba[y_prueba==0, 1], label='clase 0', marker='o')\n",
    "ax[1].scatter(X_prueba[y_prueba==1, 0], X_prueba[y_prueba==1, 1], label='clase 1', marker='o')\n",
    "\n",
    "ax[1].legend(loc='upper left')\n",
    "plt.show()"
   ]
  },
  {
   "cell_type": "code",
   "execution_count": 46,
   "metadata": {},
   "outputs": [
    {
     "data": {
      "text/plain": [
       "tensor([-0.3494])"
      ]
     },
     "execution_count": 46,
     "metadata": {},
     "output_type": "execute_result"
    }
   ],
   "source": [
    "y_min"
   ]
  },
  {
   "cell_type": "markdown",
   "metadata": {},
   "source": [
    "### Entrenar el Perceptrón"
   ]
  },
  {
   "cell_type": "code",
   "execution_count": 164,
   "metadata": {},
   "outputs": [
    {
     "name": "stdout",
     "output_type": "stream",
     "text": [
      "Parámetros del modelo:\n",
      "  Pesos: tensor([[3.3700],\n",
      "        [1.6300]], device='mps:0')\n",
      "  Sesgo: tensor([-4.], device='mps:0')\n"
     ]
    }
   ],
   "source": [
    "ppn2 = Perceptron(num_atributos=2)\n",
    "\n",
    "X_tensor = torch.tensor(X, dtype=torch.float32, device=dispositivo)\n",
    "y_tensor = torch.tensor(y, dtype=torch.float32, device=dispositivo)\n",
    "\n",
    "ppn2.train(X_tensor, y_tensor, epocas=10)\n",
    "\n",
    "print('Parámetros del modelo:')\n",
    "print('  Pesos: %s' % ppn.pesos)\n",
    "print('  Sesgo: %s' % ppn.sesgo)"
   ]
  },
  {
   "cell_type": "code",
   "execution_count": 168,
   "metadata": {},
   "outputs": [
    {
     "data": {
      "text/plain": [
       "<matplotlib.legend.Legend at 0x16e27fa00>"
      ]
     },
     "execution_count": 168,
     "metadata": {},
     "output_type": "execute_result"
    },
    {
     "data": {
      "image/png": "[encoded data removed]",
      "text/plain": [
       "<Figure size 640x480 with 1 Axes>"
      ]
     },
     "metadata": {},
     "output_type": "display_data"
    }
   ],
   "source": [
    "##########################\n",
    "### 2D Decision Boundary\n",
    "##########################\n",
    "\n",
    "pesos, sesgo = ppn2.pesos, ppn2.sesgo\n",
    "\n",
    "x0_min = -2\n",
    "x1_min = ( (-(pesos[0] * x0_min) - sesgo[0]) \n",
    "          / pesos[1] ).cpu().numpy()\n",
    "\n",
    "x0_max = 2\n",
    "x1_max = ( (-(pesos[0] * x0_max) - sesgo[0]) \n",
    "          / pesos[1] ).cpu().numpy()\n",
    "\n",
    "\n",
    "\n",
    "\n",
    "plt.plot([x0_min, x0_max], [x1_min, x1_max])\n",
    "\n",
    "plt.scatter(X[:50, 0], X[:50, 1],\n",
    "            color='red', marker='o', label='setosa')\n",
    "plt.scatter(X[50:100, 0], X[50:100, 1],\n",
    "            color='blue', marker='x', label='versicolor')\n",
    "\n",
    "plt.legend(loc='upper left')"
   ]
  },
  {
   "cell_type": "markdown",
   "metadata": {},
   "source": [
    "### Una función para graficar las regiones de decisión"
   ]
  },
  {
   "cell_type": "code",
   "execution_count": 5,
   "metadata": {},
   "outputs": [],
   "source": [
    "from matplotlib.colors import ListedColormap\n",
    "\n",
    "\n",
    "def graficar_regiones_decision(X, y, clasificador, resolucion=0.02):\n",
    "\n",
    "    # fijar los marcadores y el mapa de colores\n",
    "    marcadores = ('s', 'o', 'x', '^', 'v')\n",
    "    colores = ('red', 'blue', 'lightgreen', 'gray', 'cyan')\n",
    "    mapa_colores = ListedColormap(colores[:len(np.unique(y))])\n",
    "\n",
    "    # plot the decision surface\n",
    "    x1_min, x1_max = X[:, 0].min() - 1, X[:, 0].max() + 1\n",
    "    x2_min, x2_max = X[:, 1].min() - 1, X[:, 1].max() + 1\n",
    "    xx1, xx2 = np.meshgrid(np.arange(x1_min, x1_max, resolucion),\n",
    "                           np.arange(x2_min, x2_max, resolucion))\n",
    "    Z = clasificador.predict(np.array([xx1.ravel(), xx2.ravel()]).T)\n",
    "    Z = Z.reshape(xx1.shape)\n",
    "    plt.contourf(xx1, xx2, Z, alpha=0.4, cmap='winter')\n",
    "    plt.xlim(xx1.min(), xx1.max())\n",
    "    plt.ylim(xx2.min(), xx2.max())\n",
    "\n",
    "    # graficar los ejemplos de clases\n",
    "    for idx, cl in enumerate(np.unique(y)):\n",
    "        plt.scatter(x=X[y == cl, 0], y=X[y == cl, 1],\n",
    "                    alpha=0.8, #c=colores[idx],\n",
    "                    cmap='winter',\n",
    "                    edgecolor='black',\n",
    "                    marker=marcadores[idx], \n",
    "                    label=f'Clase {cl}')"
   ]
  },
  {
   "cell_type": "code",
   "execution_count": 6,
   "metadata": {},
   "outputs": [
    {
     "data": {
      "image/png": "[encoded data removed]",
      "text/plain": [
       "<Figure size 432x288 with 1 Axes>"
      ]
     },
     "metadata": {
      "needs_background": "light"
     },
     "output_type": "display_data"
    }
   ],
   "source": [
    "graficar_regiones_decision(X, y, clasificador=ppn)\n",
    "plt.xlabel('largo sepalo [cm]')\n",
    "plt.ylabel('largo petalo [cm]')\n",
    "plt.legend(loc='upper left')\n",
    "\n",
    "plt.tight_layout()\n",
    "plt.show()"
   ]
  },
  {
   "cell_type": "markdown",
   "metadata": {},
   "source": [
    "Como se ilustra en la siguiente figura, se puede describir el principio detrás del descenso del gradiente como bajar una colina hasta alcanzar un mínimo de coste local o global. En cada iteración, se toma un paso en sentido contrario del gradiente donde el tamaño del paso se determina por el valor de la tasa de aprendizaje, así como la pendiente del gradiente:"
   ]
  },
  {
   "cell_type": "markdown",
   "metadata": {},
   "source": [
    "## Entrenando un Perceptrón usando scikit-learn"
   ]
  },
  {
   "cell_type": "markdown",
   "metadata": {},
   "source": [
    "Usando dos de los atributos del conjunto de datos Iris entrenar un Perceptron. "
   ]
  },
  {
   "cell_type": "code",
   "execution_count": 169,
   "metadata": {},
   "outputs": [],
   "source": [
    "# Importar el conjunto de datos Iris\n",
    "from sklearn import datasets\n",
    "import numpy as np\n",
    "iris = datasets.load_iris()\n",
    "# Seleccionar los atributos largo del petalo y ancho del petalo\n",
    "X = iris.data[0:100, [0,2]]\n",
    "y = iris.target[0:100]"
   ]
  },
  {
   "cell_type": "markdown",
   "metadata": {},
   "source": [
    "Crear el conjunto de entrenamiento y el conjunto de prueba (70% entrenamiento y 30% prueba):"
   ]
  },
  {
   "cell_type": "code",
   "execution_count": 170,
   "metadata": {},
   "outputs": [],
   "source": [
    "from sklearn.model_selection import train_test_split\n",
    "X_entrenamiento, X_prueba, y_entrenamiento, y_prueba = train_test_split(X, y, test_size=0.3, random_state=0)"
   ]
  },
  {
   "cell_type": "markdown",
   "metadata": {},
   "source": [
    "Normalizar los datos para tener un mejor rendimiento del algoritmo"
   ]
  },
  {
   "cell_type": "code",
   "execution_count": 171,
   "metadata": {},
   "outputs": [],
   "source": [
    "from sklearn.preprocessing import StandardScaler\n",
    "sc = StandardScaler()\n",
    "sc.fit(X_entrenamiento)\n",
    "X_entrenamiento_normalizado = sc.transform(X_entrenamiento)\n",
    "X_prueba_normalizado = sc.transform(X_prueba)"
   ]
  },
  {
   "cell_type": "markdown",
   "metadata": {},
   "source": [
    "Entrenar un Perceptrón usando los datos de entrenamiento normalizados"
   ]
  },
  {
   "cell_type": "code",
   "execution_count": 172,
   "metadata": {},
   "outputs": [
    {
     "data": {
      "text/html": [
       "<style>#sk-container-id-1 {color: black;}#sk-container-id-1 pre{padding: 0;}#sk-container-id-1 div.sk-toggleable {background-color: white;}#sk-container-id-1 label.sk-toggleable__label {cursor: pointer;display: block;width: 100%;margin-bottom: 0;padding: 0.3em;box-sizing: border-box;text-align: center;}#sk-container-id-1 label.sk-toggleable__label-arrow:before {content: \"▸\";float: left;margin-right: 0.25em;color: #696969;}#sk-container-id-1 label.sk-toggleable__label-arrow:hover:before {color: black;}#sk-container-id-1 div.sk-estimator:hover label.sk-toggleable__label-arrow:before {color: black;}#sk-container-id-1 div.sk-toggleable__content {max-height: 0;max-width: 0;overflow: hidden;text-align: left;background-color: #f0f8ff;}#sk-container-id-1 div.sk-toggleable__content pre {margin: 0.2em;color: black;border-radius: 0.25em;background-color: #f0f8ff;}#sk-container-id-1 input.sk-toggleable__control:checked~div.sk-toggleable__content {max-height: 200px;max-width: 100%;overflow: auto;}#sk-container-id-1 input.sk-toggleable__control:checked~label.sk-toggleable__label-arrow:before {content: \"▾\";}#sk-container-id-1 div.sk-estimator input.sk-toggleable__control:checked~label.sk-toggleable__label {background-color: #d4ebff;}#sk-container-id-1 div.sk-label input.sk-toggleable__control:checked~label.sk-toggleable__label {background-color: #d4ebff;}#sk-container-id-1 input.sk-hidden--visually {border: 0;clip: rect(1px 1px 1px 1px);clip: rect(1px, 1px, 1px, 1px);height: 1px;margin: -1px;overflow: hidden;padding: 0;position: absolute;width: 1px;}#sk-container-id-1 div.sk-estimator {font-family: monospace;background-color: #f0f8ff;border: 1px dotted black;border-radius: 0.25em;box-sizing: border-box;margin-bottom: 0.5em;}#sk-container-id-1 div.sk-estimator:hover {background-color: #d4ebff;}#sk-container-id-1 div.sk-parallel-item::after {content: \"\";width: 100%;border-bottom: 1px solid gray;flex-grow: 1;}#sk-container-id-1 div.sk-label:hover label.sk-toggleable__label {background-color: #d4ebff;}#sk-container-id-1 div.sk-serial::before {content: \"\";position: absolute;border-left: 1px solid gray;box-sizing: border-box;top: 0;bottom: 0;left: 50%;z-index: 0;}#sk-container-id-1 div.sk-serial {display: flex;flex-direction: column;align-items: center;background-color: white;padding-right: 0.2em;padding-left: 0.2em;position: relative;}#sk-container-id-1 div.sk-item {position: relative;z-index: 1;}#sk-container-id-1 div.sk-parallel {display: flex;align-items: stretch;justify-content: center;background-color: white;position: relative;}#sk-container-id-1 div.sk-item::before, #sk-container-id-1 div.sk-parallel-item::before {content: \"\";position: absolute;border-left: 1px solid gray;box-sizing: border-box;top: 0;bottom: 0;left: 50%;z-index: -1;}#sk-container-id-1 div.sk-parallel-item {display: flex;flex-direction: column;z-index: 1;position: relative;background-color: white;}#sk-container-id-1 div.sk-parallel-item:first-child::after {align-self: flex-end;width: 50%;}#sk-container-id-1 div.sk-parallel-item:last-child::after {align-self: flex-start;width: 50%;}#sk-container-id-1 div.sk-parallel-item:only-child::after {width: 0;}#sk-container-id-1 div.sk-dashed-wrapped {border: 1px dashed gray;margin: 0 0.4em 0.5em 0.4em;box-sizing: border-box;padding-bottom: 0.4em;background-color: white;}#sk-container-id-1 div.sk-label label {font-family: monospace;font-weight: bold;display: inline-block;line-height: 1.2em;}#sk-container-id-1 div.sk-label-container {text-align: center;}#sk-container-id-1 div.sk-container {/* jupyter's `normalize.less` sets `[hidden] { display: none; }` but bootstrap.min.css set `[hidden] { display: none !important; }` so we also need the `!important` here to be able to override the default hidden behavior on the sphinx rendered scikit-learn.org. See: https://github.com/scikit-learn/scikit-learn/issues/21755 */display: inline-block !important;position: relative;}#sk-container-id-1 div.sk-text-repr-fallback {display: none;}</style><div id=\"sk-container-id-1\" class=\"sk-top-container\"><div class=\"sk-text-repr-fallback\"><pre>Perceptron(eta0=0.1, max_iter=40)</pre><b>In a Jupyter environment, please rerun this cell to show the HTML representation or trust the notebook. <br />On GitHub, the HTML representation is unable to render, please try loading this page with nbviewer.org.</b></div><div class=\"sk-container\" hidden><div class=\"sk-item\"><div class=\"sk-estimator sk-toggleable\"><input class=\"sk-toggleable__control sk-hidden--visually\" id=\"sk-estimator-id-1\" type=\"checkbox\" checked><label for=\"sk-estimator-id-1\" class=\"sk-toggleable__label sk-toggleable__label-arrow\">Perceptron</label><div class=\"sk-toggleable__content\"><pre>Perceptron(eta0=0.1, max_iter=40)</pre></div></div></div></div></div>"
      ],
      "text/plain": [
       "Perceptron(eta0=0.1, max_iter=40)"
      ]
     },
     "execution_count": 172,
     "metadata": {},
     "output_type": "execute_result"
    }
   ],
   "source": [
    "from sklearn.linear_model import Perceptron\n",
    "perceptron = Perceptron(max_iter=40, eta0=0.1, random_state=0)\n",
    "perceptron.fit(X_entrenamiento_normalizado, y_entrenamiento)"
   ]
  },
  {
   "cell_type": "markdown",
   "metadata": {},
   "source": [
    "Aplicar el modelo del Perceptrón entrenado para predecir las clases del conjunto de prueba:"
   ]
  },
  {
   "cell_type": "code",
   "execution_count": 173,
   "metadata": {},
   "outputs": [
    {
     "name": "stdout",
     "output_type": "stream",
     "text": [
      "Ejemplos clasificados erroneamente: 0\n"
     ]
    }
   ],
   "source": [
    "y_prediccion  = perceptron.predict(X_prueba_normalizado)\n",
    "print('Ejemplos clasificados erroneamente: %d' % (y_prediccion != y_prueba).sum())"
   ]
  },
  {
   "cell_type": "markdown",
   "metadata": {},
   "source": [
    "Usar la métrica de rendimiento `accuracy_score` de sklearn para calcular la precisión del Perceptrón:"
   ]
  },
  {
   "cell_type": "code",
   "execution_count": 174,
   "metadata": {},
   "outputs": [
    {
     "name": "stdout",
     "output_type": "stream",
     "text": [
      "Precisión: 1.00\n"
     ]
    }
   ],
   "source": [
    "from sklearn.metrics import accuracy_score\n",
    "print('Precisión: %.2f' % accuracy_score(y_prueba, y_prediccion))"
   ]
  },
  {
   "cell_type": "markdown",
   "metadata": {},
   "source": [
    "Usando una versión modificada de la función `graficar_regiones_decision` visualizar las regiones de decisión:"
   ]
  },
  {
   "cell_type": "markdown",
   "metadata": {},
   "source": [
    "Con esta ligera modificación de la función `graficar_regiones_decision_2`, ahora se puede especificar los índices de los ejemplos que queremos marcar en las gráficas resultantes."
   ]
  },
  {
   "cell_type": "code",
   "execution_count": 175,
   "metadata": {},
   "outputs": [
    {
     "ename": "NameError",
     "evalue": "name 'graficar_regiones_decision' is not defined",
     "output_type": "error",
     "traceback": [
      "\u001b[0;31m---------------------------------------------------------------------------\u001b[0m",
      "\u001b[0;31mNameError\u001b[0m                                 Traceback (most recent call last)",
      "Cell \u001b[0;32mIn[175], line 3\u001b[0m\n\u001b[1;32m      1\u001b[0m X_combinado \u001b[38;5;241m=\u001b[39m np\u001b[38;5;241m.\u001b[39mvstack((X_entrenamiento_normalizado, X_prueba_normalizado))\n\u001b[1;32m      2\u001b[0m y_combinado \u001b[38;5;241m=\u001b[39m np\u001b[38;5;241m.\u001b[39mhstack((y_entrenamiento, y_prueba))\n\u001b[0;32m----> 3\u001b[0m \u001b[43mgraficar_regiones_decision\u001b[49m(X\u001b[38;5;241m=\u001b[39mX_combinado,\n\u001b[1;32m      4\u001b[0m                             y\u001b[38;5;241m=\u001b[39my_combinado,\n\u001b[1;32m      5\u001b[0m                             clasificador\u001b[38;5;241m=\u001b[39mperceptron)\n\u001b[1;32m      6\u001b[0m plt\u001b[38;5;241m.\u001b[39mxlabel(\u001b[38;5;124m'\u001b[39m\u001b[38;5;124mlargo petalo [normalizado]\u001b[39m\u001b[38;5;124m'\u001b[39m)\n\u001b[1;32m      7\u001b[0m plt\u001b[38;5;241m.\u001b[39mylabel(\u001b[38;5;124m'\u001b[39m\u001b[38;5;124mancho petalo [normalizado]\u001b[39m\u001b[38;5;124m'\u001b[39m)\n",
      "\u001b[0;31mNameError\u001b[0m: name 'graficar_regiones_decision' is not defined"
     ]
    }
   ],
   "source": [
    "X_combinado = np.vstack((X_entrenamiento_normalizado, X_prueba_normalizado))\n",
    "y_combinado = np.hstack((y_entrenamiento, y_prueba))\n",
    "graficar_regiones_decision(X=X_combinado,\n",
    "                            y=y_combinado,\n",
    "                            clasificador=perceptron)\n",
    "plt.xlabel('largo petalo [normalizado]')\n",
    "plt.ylabel('ancho petalo [normalizado]')\n",
    "plt.legend(loc='upper left')\n",
    "plt.show"
   ]
  },
  {
   "cell_type": "code",
   "execution_count": null,
   "metadata": {
    "collapsed": true,
    "jupyter": {
     "outputs_hidden": true
    }
   },
   "outputs": [],
   "source": []
  }
 ],
 "metadata": {
  "anaconda-cloud": {},
  "kernelspec": {
   "display_name": "Python 3 (ipykernel)",
   "language": "python",
   "name": "python3"
  },
  "language_info": {
   "codemirror_mode": {
    "name": "ipython",
    "version": 3
   },
   "file_extension": ".py",
   "mimetype": "text/x-python",
   "name": "python",
   "nbconvert_exporter": "python",
   "pygments_lexer": "ipython3",
   "version": "3.9.16"
  }
 },
 "nbformat": 4,
 "nbformat_minor": 4
}
