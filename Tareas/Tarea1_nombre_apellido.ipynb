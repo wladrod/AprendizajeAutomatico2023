{
 "cells": [
  {
   "cell_type": "markdown",
   "id": "a51b9651-9d95-41c4-b104-f4bbb6ff1ce4",
   "metadata": {},
   "source": [
    "# Tarea 1\n",
    "\n",
    "## Python y Numpy"
   ]
  },
  {
   "cell_type": "markdown",
   "id": "cb7ac3a4-0c20-40ea-8198-f161e8626863",
   "metadata": {},
   "source": [
    "La tarea la debe resolver directamente sobre este *notebook*. Le deben cambiar el nombre al *notebook* sustituyendo el nombre y el apellido. Por ejemplo:\n",
    "`Tarea1_wladimir_rodriguez.ipynb`. La tarea deben enviarla al correo electrónico `wladimir@ula.ve` antes de la hora de clase (10am) del día miércoles 5 de julio ."
   ]
  },
  {
   "cell_type": "markdown",
   "id": "3735b7a5-277e-46af-b0e4-607cab379f4b",
   "metadata": {},
   "source": [
    "## Parte 1: Python"
   ]
  },
  {
   "cell_type": "markdown",
   "id": "3c83145c-52cc-401a-8cf3-4e743f2c112c",
   "metadata": {},
   "source": [
    "**P1:** Escribe una función que imprima los números impares del 1 al 99. Usando la comprensión de listas."
   ]
  },
  {
   "cell_type": "code",
   "execution_count": null,
   "id": "393986e6-a50f-4e38-9911-6725d401e0c2",
   "metadata": {},
   "outputs": [],
   "source": [
    "# Respuesta pregunta 1:\n"
   ]
  },
  {
   "cell_type": "markdown",
   "id": "c2c9e751-e1ae-45b0-a442-c3863c0886c0",
   "metadata": {},
   "source": [
    "**P2:** Escriba una función que tome un diccionario y retorne el valor más frecuente en el diccionario."
   ]
  },
  {
   "cell_type": "code",
   "execution_count": null,
   "id": "1afff0f0-eacb-43cf-8a5c-1218310876de",
   "metadata": {},
   "outputs": [],
   "source": [
    "# Respuesta pregunta 2:\n"
   ]
  },
  {
   "cell_type": "markdown",
   "id": "2dbf25f8-e4aa-4299-8661-1f85f37e16bc",
   "metadata": {},
   "source": [
    "**P3:** Escribe una función para invertir una cadena. La cadena puede tener cualquier longitud y puede estar vacía."
   ]
  },
  {
   "cell_type": "code",
   "execution_count": null,
   "id": "ed430030-d9d5-4f5c-a841-25d845422375",
   "metadata": {},
   "outputs": [],
   "source": [
    "# Respuesta pregunta 3:\n"
   ]
  },
  {
   "cell_type": "markdown",
   "id": "5d79ef5f-4c66-4da4-9f3f-fdd125fb6635",
   "metadata": {},
   "source": [
    "**P4:** Escriba una función que tome una cadena de palabras separadas por espacios (suponga que no hay signos de puntuación ni mayúsculas), junto con una palabra *objetivo*, y muestre la posición de la palabra objetivo en la cadena de palabras. Por ejemplo, si la cadena es:\n",
    "  \n",
    "`no necesitamos educación no necesitamos control del pensamiento no lo necesitamos`\n",
    "  \n",
    "y el objetivo es la palabra **necesitamos**, entonces la función debería devolver la lista $[1, 4, 10]$ porque la palabra **necesitamos** aparece \n",
    "en las posiciones 1, 4 y 10 de la cadena. (Comenzamos a contar las posiciones de las palabras en la cadena desde 0).\n",
    "La funcion debería devolver `False` si la palabra objetivo no aparece en la cadena."
   ]
  },
  {
   "cell_type": "code",
   "execution_count": null,
   "id": "7871458d-3a5d-4354-aad1-83fd36ea9eac",
   "metadata": {},
   "outputs": [],
   "source": [
    "# Respuesta pregunta 4:\n"
   ]
  },
  {
   "cell_type": "markdown",
   "id": "85d5e412-c5b3-40fb-b010-f939534be945",
   "metadata": {},
   "source": [
    "**P5:** Suponga que está buscando palabras objetivos repetidamente en una lista. Para eso podría ayudar la construcción de un *índice invertido*, que muestra las posiciones de todas las palabras objetivos, para que esta información se pueda recuperar rápidamente. Por ejemplo,\n",
    "un índice invertido para la cadena de palabras anterior sería:\n",
    " \n",
    "**no: 0, 3, 8  \n",
    "necesitamos: 1, 4, 10  \n",
    "educación: 2  \n",
    "control: 5  \n",
    "del: 6  \n",
    "pensamiento: 7  \n",
    "lo: 9**\n",
    "  \n",
    "Utilice una estructura de datos adecuada para representar un índice invertido. Escriba un procedimiento que, dada una cadena de\n",
    "palabras, construye un índice invertido y muestra cómo usar el índice para buscar palabras objetivo."
   ]
  },
  {
   "cell_type": "code",
   "execution_count": null,
   "id": "bc94cf22-f097-42da-bb1a-418ad01de293",
   "metadata": {},
   "outputs": [],
   "source": [
    "# Respuesta pregunta 5:\n"
   ]
  },
  {
   "cell_type": "markdown",
   "id": "7445ba8f-addd-4733-92f6-6d6721be3170",
   "metadata": {},
   "source": [
    "## Parte 2: Numpy"
   ]
  },
  {
   "cell_type": "code",
   "execution_count": null,
   "id": "508ee9c0-a5d0-4724-a938-c3134c8bb7ba",
   "metadata": {},
   "outputs": [],
   "source": [
    "import numpy as np"
   ]
  },
  {
   "cell_type": "markdown",
   "id": "75f165d1-0c8a-436b-9312-ccac198dc921",
   "metadata": {},
   "source": [
    "**P6:** Considere un arreglo como por ejemplo $Z = [1,2,3,4,5,6,7,8,9,10,11,12,13,14]$, escriba una función que devuelva una matriz donde las filas de la matriz contengan cuatro elementos consecutivos y donde la primera fila comience con el primer elemento del arreglo, la segunda fila con el segundo elemnto del arreglo y así sucesivamente, en el caso del arreglo Z la salida debe ser igual a: $[[1,2,3,4], [2,3,4,5], [3,4,5,6], ..., [11,12,13,14]]$"
   ]
  },
  {
   "cell_type": "code",
   "execution_count": null,
   "id": "5fcfcddd-2c5c-46a3-92f3-a35a8bec7f4d",
   "metadata": {},
   "outputs": [],
   "source": [
    "# Respuesta pregunta 6:\n"
   ]
  },
  {
   "cell_type": "markdown",
   "id": "27e1b6dc-930a-4177-8924-753a023fe638",
   "metadata": {},
   "source": [
    "**P7:** ¿Cómo intercambiar dos filas de una matriz?"
   ]
  },
  {
   "cell_type": "code",
   "execution_count": null,
   "id": "a281c295-f5f6-486b-bb93-570595213c29",
   "metadata": {},
   "outputs": [],
   "source": [
    "# Respuesta pregunta 7:\n"
   ]
  },
  {
   "cell_type": "markdown",
   "id": "c0188f1e-2ea1-469f-b1c6-44232b0042eb",
   "metadata": {},
   "source": [
    "**P8:** Encuentre el valor más cercano de un valor dado en una matriz"
   ]
  },
  {
   "cell_type": "code",
   "execution_count": null,
   "id": "d7e45d63-8c26-474c-8a35-7fc349f4d58c",
   "metadata": {},
   "outputs": [],
   "source": [
    "# Respuesta pregunta 8:\n"
   ]
  },
  {
   "cell_type": "markdown",
   "id": "8039ceb3-9bda-4f4c-8b44-e295b53cf2c0",
   "metadata": {},
   "source": [
    "**P9:** ¿Cómo colocar aleatoriamente p elementos en una matriz de 2D?"
   ]
  },
  {
   "cell_type": "code",
   "execution_count": null,
   "id": "850c42ae-528a-4464-8fbb-54382359c21f",
   "metadata": {},
   "outputs": [],
   "source": [
    "# Respuesta pregunta 9:\n"
   ]
  },
  {
   "cell_type": "markdown",
   "id": "60b7e944-f585-4571-a1a0-153b655e9e9c",
   "metadata": {},
   "source": [
    "**P10:** Considere un vector como por ejemplo $[1, 2, 3, 4, 5]$, ¿cómo construir un nuevo vector con 3 ceros consecutivos intercalados entre cada valor?"
   ]
  },
  {
   "cell_type": "code",
   "execution_count": null,
   "id": "8d3eec9b-0fbc-4f07-bbad-89108de7f942",
   "metadata": {},
   "outputs": [],
   "source": [
    "# Respuesta pregunta 10:\n"
   ]
  }
 ],
 "metadata": {
  "kernelspec": {
   "display_name": "Python 3 (ipykernel)",
   "language": "python",
   "name": "python3"
  },
  "language_info": {
   "codemirror_mode": {
    "name": "ipython",
    "version": 3
   },
   "file_extension": ".py",
   "mimetype": "text/x-python",
   "name": "python",
   "nbconvert_exporter": "python",
   "pygments_lexer": "ipython3",
   "version": "3.9.16"
  }
 },
 "nbformat": 4,
 "nbformat_minor": 5
}
